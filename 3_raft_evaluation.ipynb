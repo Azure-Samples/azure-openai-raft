{
 "cells": [
  {
   "cell_type": "code",
   "execution_count": 1,
   "metadata": {},
   "outputs": [
    {
     "data": {
      "text/html": [
       "<div>\n",
       "<style scoped>\n",
       "    .dataframe tbody tr th:only-of-type {\n",
       "        vertical-align: middle;\n",
       "    }\n",
       "\n",
       "    .dataframe tbody tr th {\n",
       "        vertical-align: top;\n",
       "    }\n",
       "\n",
       "    .dataframe thead th {\n",
       "        text-align: right;\n",
       "    }\n",
       "</style>\n",
       "<table border=\"1\" class=\"dataframe\">\n",
       "  <thead>\n",
       "    <tr style=\"text-align: right;\">\n",
       "      <th></th>\n",
       "      <th>id</th>\n",
       "      <th>type</th>\n",
       "      <th>question</th>\n",
       "      <th>context</th>\n",
       "      <th>oracle_context</th>\n",
       "      <th>cot_answer</th>\n",
       "      <th>instruction</th>\n",
       "      <th>messages</th>\n",
       "    </tr>\n",
       "  </thead>\n",
       "  <tbody>\n",
       "    <tr>\n",
       "      <th>0</th>\n",
       "      <td>seed_task_332</td>\n",
       "      <td>general</td>\n",
       "      <td>Why do contemporary vampire-hunting societies ...</td>\n",
       "      <td>{'sentences': [['An alternate explanation for ...</td>\n",
       "      <td>Vampire were released during the jiangshi cine...</td>\n",
       "      <td>To answer the question \"Why do contemporary va...</td>\n",
       "      <td>&lt;DOCUMENT&gt;An alternate explanation for noise i...</td>\n",
       "      <td>[{'role': 'user', 'content': '&lt;DOCUMENT&gt;An alt...</td>\n",
       "    </tr>\n",
       "    <tr>\n",
       "      <th>1</th>\n",
       "      <td>seed_task_249</td>\n",
       "      <td>general</td>\n",
       "      <td>Which Yugoslav horror film from 1973 was inspi...</td>\n",
       "      <td>{'sentences': [['She appeared as an attractive...</td>\n",
       "      <td>The character was later used in the story Afte...</td>\n",
       "      <td>To answer the question, we need to identify th...</td>\n",
       "      <td>&lt;DOCUMENT&gt;She appeared as an attractivewoman w...</td>\n",
       "      <td>[{'role': 'user', 'content': '&lt;DOCUMENT&gt;She ap...</td>\n",
       "    </tr>\n",
       "    <tr>\n",
       "      <th>2</th>\n",
       "      <td>seed_task_394</td>\n",
       "      <td>general</td>\n",
       "      <td>Is the consumption of blood effective in easin...</td>\n",
       "      <td>{'sentences': [['In 1932, an unsolved murder c...</td>\n",
       "      <td>Thus vampires were merely sufferers of porphyr...</td>\n",
       "      <td>To answer the question \"Is the consumption of ...</td>\n",
       "      <td>&lt;DOCUMENT&gt;In 1932, an unsolved murder case inS...</td>\n",
       "      <td>[{'role': 'user', 'content': '&lt;DOCUMENT&gt;In 193...</td>\n",
       "    </tr>\n",
       "    <tr>\n",
       "      <th>3</th>\n",
       "      <td>seed_task_147</td>\n",
       "      <td>general</td>\n",
       "      <td>What precaution was taken in Romania as recent...</td>\n",
       "      <td>{'sentences': [['Despite this condemnation, th...</td>\n",
       "      <td>In Romania, garlic could be placed in the mout...</td>\n",
       "      <td>To answer the question about the precaution ta...</td>\n",
       "      <td>&lt;DOCUMENT&gt;Despite this condemnation, the vampi...</td>\n",
       "      <td>[{'role': 'user', 'content': '&lt;DOCUMENT&gt;Despit...</td>\n",
       "    </tr>\n",
       "    <tr>\n",
       "      <th>4</th>\n",
       "      <td>seed_task_501</td>\n",
       "      <td>general</td>\n",
       "      <td>In what year was \"The Vampyre\" published?</td>\n",
       "      <td>{'sentences': [['The modern word \"Vampire\" is ...</td>\n",
       "      <td>Irvyne (1811) about a reanimated corpse, Siste...</td>\n",
       "      <td>To determine the year \"The Vampyre\" was publis...</td>\n",
       "      <td>&lt;DOCUMENT&gt;The modern word \"Vampire\" is derived...</td>\n",
       "      <td>[{'role': 'user', 'content': '&lt;DOCUMENT&gt;The mo...</td>\n",
       "    </tr>\n",
       "  </tbody>\n",
       "</table>\n",
       "</div>"
      ],
      "text/plain": [
       "              id     type                                           question  \\\n",
       "0  seed_task_332  general  Why do contemporary vampire-hunting societies ...   \n",
       "1  seed_task_249  general  Which Yugoslav horror film from 1973 was inspi...   \n",
       "2  seed_task_394  general  Is the consumption of blood effective in easin...   \n",
       "3  seed_task_147  general  What precaution was taken in Romania as recent...   \n",
       "4  seed_task_501  general          In what year was \"The Vampyre\" published?   \n",
       "\n",
       "                                             context  \\\n",
       "0  {'sentences': [['An alternate explanation for ...   \n",
       "1  {'sentences': [['She appeared as an attractive...   \n",
       "2  {'sentences': [['In 1932, an unsolved murder c...   \n",
       "3  {'sentences': [['Despite this condemnation, th...   \n",
       "4  {'sentences': [['The modern word \"Vampire\" is ...   \n",
       "\n",
       "                                      oracle_context  \\\n",
       "0  Vampire were released during the jiangshi cine...   \n",
       "1  The character was later used in the story Afte...   \n",
       "2  Thus vampires were merely sufferers of porphyr...   \n",
       "3  In Romania, garlic could be placed in the mout...   \n",
       "4  Irvyne (1811) about a reanimated corpse, Siste...   \n",
       "\n",
       "                                          cot_answer  \\\n",
       "0  To answer the question \"Why do contemporary va...   \n",
       "1  To answer the question, we need to identify th...   \n",
       "2  To answer the question \"Is the consumption of ...   \n",
       "3  To answer the question about the precaution ta...   \n",
       "4  To determine the year \"The Vampyre\" was publis...   \n",
       "\n",
       "                                         instruction  \\\n",
       "0  <DOCUMENT>An alternate explanation for noise i...   \n",
       "1  <DOCUMENT>She appeared as an attractivewoman w...   \n",
       "2  <DOCUMENT>In 1932, an unsolved murder case inS...   \n",
       "3  <DOCUMENT>Despite this condemnation, the vampi...   \n",
       "4  <DOCUMENT>The modern word \"Vampire\" is derived...   \n",
       "\n",
       "                                            messages  \n",
       "0  [{'role': 'user', 'content': '<DOCUMENT>An alt...  \n",
       "1  [{'role': 'user', 'content': '<DOCUMENT>She ap...  \n",
       "2  [{'role': 'user', 'content': '<DOCUMENT>In 193...  \n",
       "3  [{'role': 'user', 'content': '<DOCUMENT>Despit...  \n",
       "4  [{'role': 'user', 'content': '<DOCUMENT>The mo...  "
      ]
     },
     "execution_count": 1,
     "metadata": {},
     "output_type": "execute_result"
    }
   ],
   "source": [
    "import pandas as pd\n",
    "\n",
    "val_df = pd.read_json('/home/vhoudebine/projects/raft/data/training_data/vampires_test_with_metadata.json', lines=True)\n",
    "val_df.head()"
   ]
  },
  {
   "cell_type": "code",
   "execution_count": 18,
   "metadata": {},
   "outputs": [],
   "source": [
    "from dotenv import load_dotenv\n",
    "import os\n",
    "from openai import AzureOpenAI\n",
    "\n",
    "\n",
    "load_dotenv()\n",
    "# run the base and finetuned models through the dataset\n",
    "BASELINE_OPENAI_DEPLOYMENT = os.getenv(\"BASELINE_OPENAI_DEPLOYMENT\")\n",
    "BASELINE_OPENAI_ENDPOINT= os.getenv(\"BASELINE_OPENAI_ENDPOINT\")\n",
    "BASELINE_OPENAI_KEY= os.getenv(\"BASELINE_OPENAI_KEY\")\n",
    "\n",
    "FINETUNED_OPENAI_DEPLOYMENT = os.getenv(\"FINETUNED_OPENAI_DEPLOYMENT\")\n",
    "FINETUNED_OPENAI_ENDPOINT = os.getenv(\"FINETUNED_OPENAI_ENDPOINT\")\n",
    "FINETUNED_OPENAI_KEY = os.getenv(\"FINETUNED_OPENAI_KEY\")\n",
    "\n",
    "baseline_client = AzureOpenAI(\n",
    "    azure_endpoint=BASELINE_OPENAI_ENDPOINT, \n",
    "    api_key=BASELINE_OPENAI_KEY,\n",
    "    api_version=\"2024-02-01\"\n",
    "    )\n",
    "\n",
    "finetuned_client = AzureOpenAI(\n",
    "    azure_endpoint=FINETUNED_OPENAI_ENDPOINT, \n",
    "    api_key=FINETUNED_OPENAI_KEY,\n",
    "    api_version=\"2024-02-01\"\n",
    "\n",
    "    )\n",
    "\n",
    "# get the predictions\n",
    "def get_model_completions(client, prompt, deployment):\n",
    "    messages = [\n",
    "        {'role':'user','content':prompt}\n",
    "        ]\n",
    "    try:\n",
    "        response = client.chat.completions.create(\n",
    "        messages=messages,\n",
    "        model=deployment,\n",
    "        temperature=0.3,\n",
    "    )\n",
    "    \n",
    "        return response.choices[0].message.content\n",
    "\n",
    "    except Exception as e:\n",
    "        print(e)\n",
    "        pass\n",
    "    \n"
   ]
  },
  {
   "cell_type": "code",
   "execution_count": 19,
   "metadata": {},
   "outputs": [
    {
     "data": {
      "application/vnd.jupyter.widget-view+json": {
       "model_id": "667c3cdddc374460884d9bb899273894",
       "version_major": 2,
       "version_minor": 0
      },
      "text/plain": [
       "  0%|          | 0/127 [00:00<?, ?it/s]"
      ]
     },
     "metadata": {},
     "output_type": "display_data"
    },
    {
     "name": "stdout",
     "output_type": "stream",
     "text": [
      "Error code: 400 - {'error': {'message': \"The response was filtered due to the prompt triggering Azure OpenAI's content management policy. Please modify your prompt and retry. To learn more about our content filtering policies please read our documentation: https://go.microsoft.com/fwlink/?linkid=2198766\", 'type': None, 'param': 'prompt', 'code': 'content_filter', 'status': 400, 'innererror': {'code': 'ResponsibleAIPolicyViolation', 'content_filter_result': {'hate': {'filtered': False, 'severity': 'safe'}, 'jailbreak': {'filtered': False, 'detected': False}, 'self_harm': {'filtered': False, 'severity': 'safe'}, 'sexual': {'filtered': False, 'severity': 'safe'}, 'violence': {'filtered': True, 'severity': 'medium'}}}}}\n",
      "Error code: 400 - {'error': {'message': \"The response was filtered due to the prompt triggering Azure OpenAI's content management policy. Please modify your prompt and retry. To learn more about our content filtering policies please read our documentation: https://go.microsoft.com/fwlink/?linkid=2198766\", 'type': None, 'param': 'prompt', 'code': 'content_filter', 'status': 400, 'innererror': {'code': 'ResponsibleAIPolicyViolation', 'content_filter_result': {'hate': {'filtered': False, 'severity': 'safe'}, 'jailbreak': {'filtered': False, 'detected': False}, 'self_harm': {'filtered': False, 'severity': 'safe'}, 'sexual': {'filtered': False, 'severity': 'safe'}, 'violence': {'filtered': True, 'severity': 'medium'}}}}}\n"
     ]
    },
    {
     "data": {
      "application/vnd.jupyter.widget-view+json": {
       "model_id": "aeb248cb5fae418590892324a0c69196",
       "version_major": 2,
       "version_minor": 0
      },
      "text/plain": [
       "  0%|          | 0/127 [00:00<?, ?it/s]"
      ]
     },
     "metadata": {},
     "output_type": "display_data"
    },
    {
     "name": "stdout",
     "output_type": "stream",
     "text": [
      "Error code: 400 - {'error': {'message': \"The response was filtered due to the prompt triggering Azure OpenAI's content management policy. Please modify your prompt and retry. To learn more about our content filtering policies please read our documentation: https://go.microsoft.com/fwlink/?linkid=2198766\", 'type': None, 'param': 'prompt', 'code': 'content_filter', 'status': 400, 'innererror': {'code': 'ResponsibleAIPolicyViolation', 'content_filter_result': {'hate': {'filtered': False, 'severity': 'safe'}, 'jailbreak': {'filtered': False, 'detected': False}, 'self_harm': {'filtered': False, 'severity': 'safe'}, 'sexual': {'filtered': False, 'severity': 'safe'}, 'violence': {'filtered': True, 'severity': 'medium'}}}}}\n",
      "Error code: 400 - {'error': {'message': \"The response was filtered due to the prompt triggering Azure OpenAI's content management policy. Please modify your prompt and retry. To learn more about our content filtering policies please read our documentation: https://go.microsoft.com/fwlink/?linkid=2198766\", 'type': None, 'param': 'prompt', 'code': 'content_filter', 'status': 400, 'innererror': {'code': 'ResponsibleAIPolicyViolation', 'content_filter_result': {'hate': {'filtered': False, 'severity': 'safe'}, 'jailbreak': {'filtered': False, 'detected': False}, 'self_harm': {'filtered': False, 'severity': 'safe'}, 'sexual': {'filtered': False, 'severity': 'safe'}, 'violence': {'filtered': True, 'severity': 'medium'}}}}}\n"
     ]
    }
   ],
   "source": [
    "\n",
    "from tqdm.notebook import tqdm\n",
    "\n",
    "tqdm.pandas()\n",
    "\n",
    "val_df['baseline_model_response'] = val_df.progress_apply(lambda x: get_model_completions(baseline_client, x.instruction, BASELINE_OPENAI_DEPLOYMENT), axis=1)\n",
    "val_df['finetuned_model_response'] = val_df.progress_apply(lambda x: get_model_completions(finetuned_client, x.instruction, FINETUNED_OPENAI_DEPLOYMENT), axis=1)"
   ]
  },
  {
   "cell_type": "code",
   "execution_count": 21,
   "metadata": {},
   "outputs": [],
   "source": [
    "val_df.to_json('/home/vhoudebine/projects/raft/data/training_data/vampires_eval.json', lines=True, orient='records')"
   ]
  },
  {
   "cell_type": "code",
   "execution_count": 20,
   "metadata": {},
   "outputs": [
    {
     "data": {
      "text/html": [
       "<div>\n",
       "<style scoped>\n",
       "    .dataframe tbody tr th:only-of-type {\n",
       "        vertical-align: middle;\n",
       "    }\n",
       "\n",
       "    .dataframe tbody tr th {\n",
       "        vertical-align: top;\n",
       "    }\n",
       "\n",
       "    .dataframe thead th {\n",
       "        text-align: right;\n",
       "    }\n",
       "</style>\n",
       "<table border=\"1\" class=\"dataframe\">\n",
       "  <thead>\n",
       "    <tr style=\"text-align: right;\">\n",
       "      <th></th>\n",
       "      <th>id</th>\n",
       "      <th>type</th>\n",
       "      <th>question</th>\n",
       "      <th>context</th>\n",
       "      <th>oracle_context</th>\n",
       "      <th>cot_answer</th>\n",
       "      <th>instruction</th>\n",
       "      <th>messages</th>\n",
       "      <th>baseline_model_response</th>\n",
       "      <th>finetuned_model_response</th>\n",
       "    </tr>\n",
       "  </thead>\n",
       "  <tbody>\n",
       "    <tr>\n",
       "      <th>0</th>\n",
       "      <td>seed_task_332</td>\n",
       "      <td>general</td>\n",
       "      <td>Why do contemporary vampire-hunting societies ...</td>\n",
       "      <td>{'sentences': [['An alternate explanation for ...</td>\n",
       "      <td>Vampire were released during the jiangshi cine...</td>\n",
       "      <td>To answer the question \"Why do contemporary va...</td>\n",
       "      <td>&lt;DOCUMENT&gt;An alternate explanation for noise i...</td>\n",
       "      <td>[{'role': 'user', 'content': '&lt;DOCUMENT&gt;An alt...</td>\n",
       "      <td>Contemporary vampire-hunting societies exist p...</td>\n",
       "      <td>To answer the question \"Why do contemporary va...</td>\n",
       "    </tr>\n",
       "    <tr>\n",
       "      <th>1</th>\n",
       "      <td>seed_task_249</td>\n",
       "      <td>general</td>\n",
       "      <td>Which Yugoslav horror film from 1973 was inspi...</td>\n",
       "      <td>{'sentences': [['She appeared as an attractive...</td>\n",
       "      <td>The character was later used in the story Afte...</td>\n",
       "      <td>To answer the question, we need to identify th...</td>\n",
       "      <td>&lt;DOCUMENT&gt;She appeared as an attractivewoman w...</td>\n",
       "      <td>[{'role': 'user', 'content': '&lt;DOCUMENT&gt;She ap...</td>\n",
       "      <td>The Yugoslav horror film from 1973 inspired by...</td>\n",
       "      <td>To answer the question \"Which Yugoslav horror ...</td>\n",
       "    </tr>\n",
       "    <tr>\n",
       "      <th>2</th>\n",
       "      <td>seed_task_394</td>\n",
       "      <td>general</td>\n",
       "      <td>Is the consumption of blood effective in easin...</td>\n",
       "      <td>{'sentences': [['In 1932, an unsolved murder c...</td>\n",
       "      <td>Thus vampires were merely sufferers of porphyr...</td>\n",
       "      <td>To answer the question \"Is the consumption of ...</td>\n",
       "      <td>&lt;DOCUMENT&gt;In 1932, an unsolved murder case inS...</td>\n",
       "      <td>[{'role': 'user', 'content': '&lt;DOCUMENT&gt;In 193...</td>\n",
       "      <td>No, the consumption of blood is not effective ...</td>\n",
       "      <td>To answer the question \"Is the consumption of ...</td>\n",
       "    </tr>\n",
       "    <tr>\n",
       "      <th>3</th>\n",
       "      <td>seed_task_147</td>\n",
       "      <td>general</td>\n",
       "      <td>What precaution was taken in Romania as recent...</td>\n",
       "      <td>{'sentences': [['Despite this condemnation, th...</td>\n",
       "      <td>In Romania, garlic could be placed in the mout...</td>\n",
       "      <td>To answer the question about the precaution ta...</td>\n",
       "      <td>&lt;DOCUMENT&gt;Despite this condemnation, the vampi...</td>\n",
       "      <td>[{'role': 'user', 'content': '&lt;DOCUMENT&gt;Despit...</td>\n",
       "      <td>In Romania, as recently as the 19th century, a...</td>\n",
       "      <td>To answer the question about the precaution ta...</td>\n",
       "    </tr>\n",
       "    <tr>\n",
       "      <th>4</th>\n",
       "      <td>seed_task_501</td>\n",
       "      <td>general</td>\n",
       "      <td>In what year was \"The Vampyre\" published?</td>\n",
       "      <td>{'sentences': [['The modern word \"Vampire\" is ...</td>\n",
       "      <td>Irvyne (1811) about a reanimated corpse, Siste...</td>\n",
       "      <td>To determine the year \"The Vampyre\" was publis...</td>\n",
       "      <td>&lt;DOCUMENT&gt;The modern word \"Vampire\" is derived...</td>\n",
       "      <td>[{'role': 'user', 'content': '&lt;DOCUMENT&gt;The mo...</td>\n",
       "      <td>\"The Vampyre\" was published in 1819.</td>\n",
       "      <td>To determine the year \"The Vampyre\" was publis...</td>\n",
       "    </tr>\n",
       "  </tbody>\n",
       "</table>\n",
       "</div>"
      ],
      "text/plain": [
       "              id     type                                           question  \\\n",
       "0  seed_task_332  general  Why do contemporary vampire-hunting societies ...   \n",
       "1  seed_task_249  general  Which Yugoslav horror film from 1973 was inspi...   \n",
       "2  seed_task_394  general  Is the consumption of blood effective in easin...   \n",
       "3  seed_task_147  general  What precaution was taken in Romania as recent...   \n",
       "4  seed_task_501  general          In what year was \"The Vampyre\" published?   \n",
       "\n",
       "                                             context  \\\n",
       "0  {'sentences': [['An alternate explanation for ...   \n",
       "1  {'sentences': [['She appeared as an attractive...   \n",
       "2  {'sentences': [['In 1932, an unsolved murder c...   \n",
       "3  {'sentences': [['Despite this condemnation, th...   \n",
       "4  {'sentences': [['The modern word \"Vampire\" is ...   \n",
       "\n",
       "                                      oracle_context  \\\n",
       "0  Vampire were released during the jiangshi cine...   \n",
       "1  The character was later used in the story Afte...   \n",
       "2  Thus vampires were merely sufferers of porphyr...   \n",
       "3  In Romania, garlic could be placed in the mout...   \n",
       "4  Irvyne (1811) about a reanimated corpse, Siste...   \n",
       "\n",
       "                                          cot_answer  \\\n",
       "0  To answer the question \"Why do contemporary va...   \n",
       "1  To answer the question, we need to identify th...   \n",
       "2  To answer the question \"Is the consumption of ...   \n",
       "3  To answer the question about the precaution ta...   \n",
       "4  To determine the year \"The Vampyre\" was publis...   \n",
       "\n",
       "                                         instruction  \\\n",
       "0  <DOCUMENT>An alternate explanation for noise i...   \n",
       "1  <DOCUMENT>She appeared as an attractivewoman w...   \n",
       "2  <DOCUMENT>In 1932, an unsolved murder case inS...   \n",
       "3  <DOCUMENT>Despite this condemnation, the vampi...   \n",
       "4  <DOCUMENT>The modern word \"Vampire\" is derived...   \n",
       "\n",
       "                                            messages  \\\n",
       "0  [{'role': 'user', 'content': '<DOCUMENT>An alt...   \n",
       "1  [{'role': 'user', 'content': '<DOCUMENT>She ap...   \n",
       "2  [{'role': 'user', 'content': '<DOCUMENT>In 193...   \n",
       "3  [{'role': 'user', 'content': '<DOCUMENT>Despit...   \n",
       "4  [{'role': 'user', 'content': '<DOCUMENT>The mo...   \n",
       "\n",
       "                             baseline_model_response  \\\n",
       "0  Contemporary vampire-hunting societies exist p...   \n",
       "1  The Yugoslav horror film from 1973 inspired by...   \n",
       "2  No, the consumption of blood is not effective ...   \n",
       "3  In Romania, as recently as the 19th century, a...   \n",
       "4               \"The Vampyre\" was published in 1819.   \n",
       "\n",
       "                            finetuned_model_response  \n",
       "0  To answer the question \"Why do contemporary va...  \n",
       "1  To answer the question \"Which Yugoslav horror ...  \n",
       "2  To answer the question \"Is the consumption of ...  \n",
       "3  To answer the question about the precaution ta...  \n",
       "4  To determine the year \"The Vampyre\" was publis...  "
      ]
     },
     "execution_count": 20,
     "metadata": {},
     "output_type": "execute_result"
    }
   ],
   "source": [
    "val_df.head()"
   ]
  },
  {
   "cell_type": "code",
   "execution_count": 3,
   "metadata": {},
   "outputs": [
    {
     "name": "stdout",
     "output_type": "stream",
     "text": [
      "azure_endpoint=https://vh-aoai.openai.azure.com\n",
      "azure_deployment=gpt-4o-global\n",
      "api_version=2024-02-01\n"
     ]
    }
   ],
   "source": [
    "import os\n",
    "from promptflow.core import AzureOpenAIModelConfiguration\n",
    "\n",
    "azure_endpoint = os.environ.get(\"AZURE_OPENAI_API_ENDPOINT\")\n",
    "api_key = os.environ.get(\"AZURE_OPENAI_API_KEY\")\n",
    "azure_deployment = \"gpt-4o-global\"\n",
    "api_version = \"2024-02-01\"\n",
    "\n",
    "print(\"azure_endpoint=\" + azure_endpoint)\n",
    "print(\"azure_deployment=\" + azure_deployment)\n",
    "print(\"api_version=\" + api_version)\n",
    "\n",
    "# Initialize Azure OpenAI Connection\n",
    "model_config = AzureOpenAIModelConfiguration(\n",
    "    azure_endpoint=azure_endpoint,\n",
    "    api_key=api_key,\n",
    "    azure_deployment=azure_deployment,\n",
    "    api_version=api_version,\n",
    ")"
   ]
  },
  {
   "cell_type": "code",
   "execution_count": 4,
   "metadata": {},
   "outputs": [],
   "source": [
    "val_df = pd.read_json('/home/vhoudebine/projects/raft/data/training_data/vampires_eval.json', lines=True)"
   ]
  },
  {
   "cell_type": "code",
   "execution_count": 31,
   "metadata": {},
   "outputs": [],
   "source": [
    "from promptflow.evals.evaluators import RelevanceEvaluator, SimilarityEvaluator, GroundednessEvaluator, F1ScoreEvaluator\n",
    "\n",
    "# Initializing evaluators\n",
    "similarity = SimilarityEvaluator(model_config)\n",
    "groundedness = GroundednessEvaluator(model_config)\n",
    "f1_score=F1ScoreEvaluator()\n"
   ]
  },
  {
   "cell_type": "code",
   "execution_count": 8,
   "metadata": {},
   "outputs": [
    {
     "data": {
      "text/plain": [
       "'To answer the question \"Why do contemporary vampire-hunting societies exist?\" using the provided context, follow these steps:\\n\\n1. Identify the relevant information in the context that directly addresses the existence and purpose of contemporary vampire-hunting societies.\\n2. Extract and analyze the specific sentences that explain why these societies are formed.\\n3. Summarize the extracted information to provide a clear and concise answer.\\n\\nStep-by-step reasoning:\\n\\n1. The context mentions that vampire-hunting societies still exist.\\n2. It specifies the reason for their existence: ##begin_quote## \"Vampire-hunting societies still exist, but they are largely formed for social reasons.\" ##end_quote##\\n3. This indicates that the primary purpose of these societies is social rather than practical or based on actual vampire threats.\\n\\n<ANSWER>: Contemporary vampire-hunting societies exist largely for social reasons.'"
      ]
     },
     "execution_count": 8,
     "metadata": {},
     "output_type": "execute_result"
    }
   ],
   "source": [
    "val_df.finetuned_model_response.values[0]\n",
    "val_df.cot_answer.values[0]"
   ]
  },
  {
   "cell_type": "code",
   "execution_count": 11,
   "metadata": {},
   "outputs": [],
   "source": [
    "def extract_final_answer(cot_answer: str) -> str:\n",
    "    \"\"\"\n",
    "    Extracts the final answer from the cot_answer field\n",
    "    \"\"\"\n",
    "    if cot_answer:\n",
    "        return cot_answer.split(\"<ANSWER>: \")[-1]\n",
    "    return None\n",
    "\n",
    "def extract_context(instruction: str) -> str:\n",
    "    \"\"\"\n",
    "    Extracts the context from the instruction field.\n",
    "    Keeps all <DOCUMENTS/> and removes the last line with the question.\n",
    "    \"\"\"\n",
    "    return \"\\n\".join(instruction.split(\"\\n\")[:-1])\n",
    "\n",
    "val_df['gold_final_answer'] = val_df.cot_answer.apply(extract_final_answer)\n",
    "val_df.rename(columns={'context':'context_docs'}, inplace=True)\n",
    "val_df['context'] = val_df.instruction.apply(extract_context)\n",
    "val_df['baseline_final_answer'] = val_df.baseline_model_response.apply(extract_final_answer)\n",
    "val_df['finetuned_final_answer'] = val_df.finetuned_model_response.apply(extract_final_answer)\n"
   ]
  },
  {
   "cell_type": "code",
   "execution_count": 12,
   "metadata": {},
   "outputs": [
    {
     "data": {
      "text/html": [
       "<div>\n",
       "<style scoped>\n",
       "    .dataframe tbody tr th:only-of-type {\n",
       "        vertical-align: middle;\n",
       "    }\n",
       "\n",
       "    .dataframe tbody tr th {\n",
       "        vertical-align: top;\n",
       "    }\n",
       "\n",
       "    .dataframe thead th {\n",
       "        text-align: right;\n",
       "    }\n",
       "</style>\n",
       "<table border=\"1\" class=\"dataframe\">\n",
       "  <thead>\n",
       "    <tr style=\"text-align: right;\">\n",
       "      <th></th>\n",
       "      <th>id</th>\n",
       "      <th>type</th>\n",
       "      <th>question</th>\n",
       "      <th>context_docs</th>\n",
       "      <th>oracle_context</th>\n",
       "      <th>cot_answer</th>\n",
       "      <th>instruction</th>\n",
       "      <th>messages</th>\n",
       "      <th>baseline_model_response</th>\n",
       "      <th>finetuned_model_response</th>\n",
       "      <th>gold_final_answer</th>\n",
       "      <th>context</th>\n",
       "      <th>baseline_final_answer</th>\n",
       "      <th>finetuned_final_answer</th>\n",
       "    </tr>\n",
       "  </thead>\n",
       "  <tbody>\n",
       "    <tr>\n",
       "      <th>0</th>\n",
       "      <td>seed_task_332</td>\n",
       "      <td>general</td>\n",
       "      <td>Why do contemporary vampire-hunting societies ...</td>\n",
       "      <td>{'sentences': [['An alternate explanation for ...</td>\n",
       "      <td>Vampire were released during the jiangshi cine...</td>\n",
       "      <td>To answer the question \"Why do contemporary va...</td>\n",
       "      <td>&lt;DOCUMENT&gt;An alternate explanation for noise i...</td>\n",
       "      <td>[{'role': 'user', 'content': '&lt;DOCUMENT&gt;An alt...</td>\n",
       "      <td>Contemporary vampire-hunting societies exist p...</td>\n",
       "      <td>To answer the question \"Why do contemporary va...</td>\n",
       "      <td>Contemporary vampire-hunting societies exist l...</td>\n",
       "      <td>&lt;DOCUMENT&gt;An alternate explanation for noise i...</td>\n",
       "      <td>Contemporary vampire-hunting societies exist p...</td>\n",
       "      <td>Vampire-hunting societies exist largely for so...</td>\n",
       "    </tr>\n",
       "    <tr>\n",
       "      <th>1</th>\n",
       "      <td>seed_task_249</td>\n",
       "      <td>general</td>\n",
       "      <td>Which Yugoslav horror film from 1973 was inspi...</td>\n",
       "      <td>{'sentences': [['She appeared as an attractive...</td>\n",
       "      <td>The character was later used in the story Afte...</td>\n",
       "      <td>To answer the question, we need to identify th...</td>\n",
       "      <td>&lt;DOCUMENT&gt;She appeared as an attractivewoman w...</td>\n",
       "      <td>[{'role': 'user', 'content': '&lt;DOCUMENT&gt;She ap...</td>\n",
       "      <td>The Yugoslav horror film from 1973 inspired by...</td>\n",
       "      <td>To answer the question \"Which Yugoslav horror ...</td>\n",
       "      <td>Leptirica</td>\n",
       "      <td>&lt;DOCUMENT&gt;She appeared as an attractivewoman w...</td>\n",
       "      <td>The Yugoslav horror film from 1973 inspired by...</td>\n",
       "      <td>Leptirica</td>\n",
       "    </tr>\n",
       "    <tr>\n",
       "      <th>2</th>\n",
       "      <td>seed_task_394</td>\n",
       "      <td>general</td>\n",
       "      <td>Is the consumption of blood effective in easin...</td>\n",
       "      <td>{'sentences': [['In 1932, an unsolved murder c...</td>\n",
       "      <td>Thus vampires were merely sufferers of porphyr...</td>\n",
       "      <td>To answer the question \"Is the consumption of ...</td>\n",
       "      <td>&lt;DOCUMENT&gt;In 1932, an unsolved murder case inS...</td>\n",
       "      <td>[{'role': 'user', 'content': '&lt;DOCUMENT&gt;In 193...</td>\n",
       "      <td>No, the consumption of blood is not effective ...</td>\n",
       "      <td>To answer the question \"Is the consumption of ...</td>\n",
       "      <td>No, the consumption of blood is not effective ...</td>\n",
       "      <td>&lt;DOCUMENT&gt;In 1932, an unsolved murder case inS...</td>\n",
       "      <td>No, the consumption of blood is not effective ...</td>\n",
       "      <td>No, the consumption of blood is not effective ...</td>\n",
       "    </tr>\n",
       "    <tr>\n",
       "      <th>3</th>\n",
       "      <td>seed_task_147</td>\n",
       "      <td>general</td>\n",
       "      <td>What precaution was taken in Romania as recent...</td>\n",
       "      <td>{'sentences': [['Despite this condemnation, th...</td>\n",
       "      <td>In Romania, garlic could be placed in the mout...</td>\n",
       "      <td>To answer the question about the precaution ta...</td>\n",
       "      <td>&lt;DOCUMENT&gt;Despite this condemnation, the vampi...</td>\n",
       "      <td>[{'role': 'user', 'content': '&lt;DOCUMENT&gt;Despit...</td>\n",
       "      <td>In Romania, as recently as the 19th century, a...</td>\n",
       "      <td>To answer the question about the precaution ta...</td>\n",
       "      <td>Shooting a bullet through the coffin.</td>\n",
       "      <td>&lt;DOCUMENT&gt;Despite this condemnation, the vampi...</td>\n",
       "      <td>In Romania, as recently as the 19th century, a...</td>\n",
       "      <td>The precaution of shooting a bullet through th...</td>\n",
       "    </tr>\n",
       "    <tr>\n",
       "      <th>4</th>\n",
       "      <td>seed_task_501</td>\n",
       "      <td>general</td>\n",
       "      <td>In what year was \"The Vampyre\" published?</td>\n",
       "      <td>{'sentences': [['The modern word \"Vampire\" is ...</td>\n",
       "      <td>Irvyne (1811) about a reanimated corpse, Siste...</td>\n",
       "      <td>To determine the year \"The Vampyre\" was publis...</td>\n",
       "      <td>&lt;DOCUMENT&gt;The modern word \"Vampire\" is derived...</td>\n",
       "      <td>[{'role': 'user', 'content': '&lt;DOCUMENT&gt;The mo...</td>\n",
       "      <td>\"The Vampyre\" was published in 1819.</td>\n",
       "      <td>To determine the year \"The Vampyre\" was publis...</td>\n",
       "      <td>1819</td>\n",
       "      <td>&lt;DOCUMENT&gt;The modern word \"Vampire\" is derived...</td>\n",
       "      <td>\"The Vampyre\" was published in 1819.</td>\n",
       "      <td>1819</td>\n",
       "    </tr>\n",
       "  </tbody>\n",
       "</table>\n",
       "</div>"
      ],
      "text/plain": [
       "              id     type                                           question  \\\n",
       "0  seed_task_332  general  Why do contemporary vampire-hunting societies ...   \n",
       "1  seed_task_249  general  Which Yugoslav horror film from 1973 was inspi...   \n",
       "2  seed_task_394  general  Is the consumption of blood effective in easin...   \n",
       "3  seed_task_147  general  What precaution was taken in Romania as recent...   \n",
       "4  seed_task_501  general          In what year was \"The Vampyre\" published?   \n",
       "\n",
       "                                        context_docs  \\\n",
       "0  {'sentences': [['An alternate explanation for ...   \n",
       "1  {'sentences': [['She appeared as an attractive...   \n",
       "2  {'sentences': [['In 1932, an unsolved murder c...   \n",
       "3  {'sentences': [['Despite this condemnation, th...   \n",
       "4  {'sentences': [['The modern word \"Vampire\" is ...   \n",
       "\n",
       "                                      oracle_context  \\\n",
       "0  Vampire were released during the jiangshi cine...   \n",
       "1  The character was later used in the story Afte...   \n",
       "2  Thus vampires were merely sufferers of porphyr...   \n",
       "3  In Romania, garlic could be placed in the mout...   \n",
       "4  Irvyne (1811) about a reanimated corpse, Siste...   \n",
       "\n",
       "                                          cot_answer  \\\n",
       "0  To answer the question \"Why do contemporary va...   \n",
       "1  To answer the question, we need to identify th...   \n",
       "2  To answer the question \"Is the consumption of ...   \n",
       "3  To answer the question about the precaution ta...   \n",
       "4  To determine the year \"The Vampyre\" was publis...   \n",
       "\n",
       "                                         instruction  \\\n",
       "0  <DOCUMENT>An alternate explanation for noise i...   \n",
       "1  <DOCUMENT>She appeared as an attractivewoman w...   \n",
       "2  <DOCUMENT>In 1932, an unsolved murder case inS...   \n",
       "3  <DOCUMENT>Despite this condemnation, the vampi...   \n",
       "4  <DOCUMENT>The modern word \"Vampire\" is derived...   \n",
       "\n",
       "                                            messages  \\\n",
       "0  [{'role': 'user', 'content': '<DOCUMENT>An alt...   \n",
       "1  [{'role': 'user', 'content': '<DOCUMENT>She ap...   \n",
       "2  [{'role': 'user', 'content': '<DOCUMENT>In 193...   \n",
       "3  [{'role': 'user', 'content': '<DOCUMENT>Despit...   \n",
       "4  [{'role': 'user', 'content': '<DOCUMENT>The mo...   \n",
       "\n",
       "                             baseline_model_response  \\\n",
       "0  Contemporary vampire-hunting societies exist p...   \n",
       "1  The Yugoslav horror film from 1973 inspired by...   \n",
       "2  No, the consumption of blood is not effective ...   \n",
       "3  In Romania, as recently as the 19th century, a...   \n",
       "4               \"The Vampyre\" was published in 1819.   \n",
       "\n",
       "                            finetuned_model_response  \\\n",
       "0  To answer the question \"Why do contemporary va...   \n",
       "1  To answer the question \"Which Yugoslav horror ...   \n",
       "2  To answer the question \"Is the consumption of ...   \n",
       "3  To answer the question about the precaution ta...   \n",
       "4  To determine the year \"The Vampyre\" was publis...   \n",
       "\n",
       "                                   gold_final_answer  \\\n",
       "0  Contemporary vampire-hunting societies exist l...   \n",
       "1                                          Leptirica   \n",
       "2  No, the consumption of blood is not effective ...   \n",
       "3              Shooting a bullet through the coffin.   \n",
       "4                                               1819   \n",
       "\n",
       "                                             context  \\\n",
       "0  <DOCUMENT>An alternate explanation for noise i...   \n",
       "1  <DOCUMENT>She appeared as an attractivewoman w...   \n",
       "2  <DOCUMENT>In 1932, an unsolved murder case inS...   \n",
       "3  <DOCUMENT>Despite this condemnation, the vampi...   \n",
       "4  <DOCUMENT>The modern word \"Vampire\" is derived...   \n",
       "\n",
       "                               baseline_final_answer  \\\n",
       "0  Contemporary vampire-hunting societies exist p...   \n",
       "1  The Yugoslav horror film from 1973 inspired by...   \n",
       "2  No, the consumption of blood is not effective ...   \n",
       "3  In Romania, as recently as the 19th century, a...   \n",
       "4               \"The Vampyre\" was published in 1819.   \n",
       "\n",
       "                              finetuned_final_answer  \n",
       "0  Vampire-hunting societies exist largely for so...  \n",
       "1                                          Leptirica  \n",
       "2  No, the consumption of blood is not effective ...  \n",
       "3  The precaution of shooting a bullet through th...  \n",
       "4                                               1819  "
      ]
     },
     "execution_count": 12,
     "metadata": {},
     "output_type": "execute_result"
    }
   ],
   "source": [
    "val_df.head()"
   ]
  },
  {
   "cell_type": "code",
   "execution_count": 26,
   "metadata": {},
   "outputs": [],
   "source": [
    "val_df.to_json('/home/vhoudebine/projects/raft/data/training_data/vampires_eval_batch_run.jsonl', lines=True, orient='records')"
   ]
  },
  {
   "cell_type": "code",
   "execution_count": 14,
   "metadata": {},
   "outputs": [
    {
     "name": "stdout",
     "output_type": "stream",
     "text": [
      "{'gpt_groundedness': 5.0}\n"
     ]
    }
   ],
   "source": [
    "sample = val_df.iloc[1]\n",
    "# Running Groundedness Evaluator on single input row\n",
    "groundedness_score = groundedness(\n",
    "    answer=sample['baseline_final_answer'],\n",
    "    context=sample['context'],\n",
    ")\n",
    "print(groundedness_score)"
   ]
  },
  {
   "cell_type": "code",
   "execution_count": 15,
   "metadata": {},
   "outputs": [
    {
     "name": "stdout",
     "output_type": "stream",
     "text": [
      "{'gpt_similarity': 5.0}\n"
     ]
    }
   ],
   "source": [
    "# Running Similarity Evaluator on single input row\n",
    "similarity_score = similarity(\n",
    "    question=sample['question'],\n",
    "    answer=sample['baseline_final_answer'],\n",
    "    context=sample['context'],\n",
    "    ground_truth=sample['gold_final_answer'],\n",
    ")\n",
    "print(similarity_score)"
   ]
  },
  {
   "cell_type": "code",
   "execution_count": 32,
   "metadata": {},
   "outputs": [],
   "source": [
    "from promptflow.evals.evaluate import evaluate\n",
    "\n",
    "def score_dataset(dataset, type=\"baseline\", output_path=None):\n",
    "    # column mapping\n",
    "    if type==\"baseline\":\n",
    "        answer_input = \"${data.baseline_final_answer}\"\n",
    "    elif type == \"finetuned\":\n",
    "        answer_input = \"${data.finetuned_final_answer}\"\n",
    "    result = evaluate(\n",
    "        data=dataset,\n",
    "        evaluators={\n",
    "            \"similarity\": similarity,\n",
    "            \"groundedness\": groundedness,\n",
    "            \"f1_score\": f1_score\n",
    "        },\n",
    "        azure_ai_project={\n",
    "            \"subscription_id\": os.getenv(\"AZURE_SUBSCRIPTION_ID\"),\n",
    "            \"resource_group_name\": os.getenv(\"AZURE_RESOURCE_GROUP_NAME\"),\n",
    "            \"project_name\": os.getenv(\"AZURE_AI_STUDIO_PROJECT_NAME\"),\n",
    "        },\n",
    "        \n",
    "        \n",
    "        evaluator_config={\n",
    "            \"similarity\": {\n",
    "                \"question\": \"${data.question}\",\n",
    "                \"answer\": answer_input,\n",
    "                \"ground_truth\": \"${data.gold_final_answer}\",\n",
    "                \"context\": \"${data.context}\",\n",
    "            },\n",
    "            \"groundedness\": {\n",
    "                \"answer\": answer_input,\n",
    "                \"context\": \"${data.context}\",\n",
    "            },\n",
    "            \"f1_score\": {\n",
    "                \"answer\": answer_input,\n",
    "                \"ground_truth\": \"${data.gold_final_answer}\",\n",
    "            }\n",
    "        }\n",
    "    )\n",
    "\n",
    "    if output_path:\n",
    "        pd.DataFrame.from_dict(result['rows']).to_json(output_path, orient=\"records\", lines=True)\n",
    "\n",
    "    return result"
   ]
  },
  {
   "cell_type": "code",
   "execution_count": 33,
   "metadata": {},
   "outputs": [
    {
     "name": "stderr",
     "output_type": "stream",
     "text": [
      "[2024-08-13 12:58:21 -0400][promptflow._core.entry_meta_generator][WARNING] - Generate meta in current process and timeout won't take effect. Please handle timeout manually outside current process.\n",
      "[2024-08-13 12:58:21 -0400][promptflow._sdk._orchestrator.run_submitter][INFO] - Submitting run promptflow_evals_evaluators_f1_score_f1_score_f1scoreevaluator_2mfcapfn_20240813_125820_256438, log path: /home/vhoudebine/.promptflow/.runs/promptflow_evals_evaluators_f1_score_f1_score_f1scoreevaluator_2mfcapfn_20240813_125820_256438/logs.txt\n"
     ]
    },
    {
     "name": "stdout",
     "output_type": "stream",
     "text": [
      "Prompt flow service has started...\n",
      "You can view the traces in local from http://127.0.0.1:53411/v1.0/ui/traces/?#run=promptflow_evals_evaluators_f1_score_f1_score_f1scoreevaluator_2mfcapfn_20240813_125820_256438\n",
      "You can view the traces in azure portal since trace destination is set to: azureml://subscriptions/6c065ea7-65cd-4a34-8e2a-3e21ad4a8e9f/resourceGroups/vince-rg/providers/Microsoft.MachineLearningServices/workspaces/raft-demo. The link will be printed once the run is finished.\n"
     ]
    },
    {
     "name": "stderr",
     "output_type": "stream",
     "text": [
      "[2024-08-13 12:58:21 -0400][promptflow._core.entry_meta_generator][WARNING] - Generate meta in current process and timeout won't take effect. Please handle timeout manually outside current process.\n",
      "[2024-08-13 12:58:21 -0400][promptflow._core.entry_meta_generator][WARNING] - Generate meta in current process and timeout won't take effect. Please handle timeout manually outside current process.\n",
      "[2024-08-13 12:58:21 -0400][promptflow._sdk._orchestrator.run_submitter][INFO] - Submitting run promptflow_evals_evaluators_similarity_similarity_similarityevaluator_tjwu97ma_20240813_125820_250752, log path: /home/vhoudebine/.promptflow/.runs/promptflow_evals_evaluators_similarity_similarity_similarityevaluator_tjwu97ma_20240813_125820_250752/logs.txt\n"
     ]
    },
    {
     "name": "stdout",
     "output_type": "stream",
     "text": [
      "Prompt flow service has started...\n",
      "You can view the traces in local from http://127.0.0.1:53411/v1.0/ui/traces/?#run=promptflow_evals_evaluators_similarity_similarity_similarityevaluator_tjwu97ma_20240813_125820_250752\n",
      "Prompt flow service has started...\n",
      "You can view the traces in azure portal since trace destination is set to: azureml://subscriptions/6c065ea7-65cd-4a34-8e2a-3e21ad4a8e9f/resourceGroups/vince-rg/providers/Microsoft.MachineLearningServices/workspaces/raft-demo. The link will be printed once the run is finished.\n",
      "You can view the traces in local from http://127.0.0.1:53411/v1.0/ui/traces/?#run=promptflow_evals_evaluators_groundedness_groundedness_groundednessevaluator_1lvrl9t0_20240813_125820_245651\n",
      "You can view the traces in azure portal since trace destination is set to: azureml://subscriptions/6c065ea7-65cd-4a34-8e2a-3e21ad4a8e9f/resourceGroups/vince-rg/providers/Microsoft.MachineLearningServices/workspaces/raft-demo. The link will be printed once the run is finished.\n"
     ]
    },
    {
     "name": "stderr",
     "output_type": "stream",
     "text": [
      "[2024-08-13 12:58:21 -0400][promptflow._sdk._orchestrator.run_submitter][INFO] - Submitting run promptflow_evals_evaluators_groundedness_groundedness_groundednessevaluator_1lvrl9t0_20240813_125820_245651, log path: /home/vhoudebine/.promptflow/.runs/promptflow_evals_evaluators_groundedness_groundedness_groundednessevaluator_1lvrl9t0_20240813_125820_245651/logs.txt\n",
      "[2024-08-13 12:58:45 -0400][promptflow._sdk._orchestrator.run_submitter][WARNING] - 5 out of 127 runs failed in batch run.\n",
      " Please check out /home/vhoudebine/.promptflow/.runs/promptflow_evals_evaluators_f1_score_f1_score_f1scoreevaluator_2mfcapfn_20240813_125820_256438 for more details.\n"
     ]
    },
    {
     "name": "stdout",
     "output_type": "stream",
     "text": [
      "2024-08-13 12:58:50 -0400  189667 execution          ERROR    5/127 flow run failed, indexes: [20,23,28,70,87], exception of index 20: Execution failure in 'GroundednessEvaluator.__call__': (ValueError) Both 'answer' and 'context' must be non-empty strings.\n"
     ]
    },
    {
     "name": "stderr",
     "output_type": "stream",
     "text": [
      "[2024-08-13 12:58:50 -0400][promptflow._sdk._orchestrator.run_submitter][WARNING] - 5 out of 127 runs failed in batch run.\n",
      " Please check out /home/vhoudebine/.promptflow/.runs/promptflow_evals_evaluators_groundedness_groundedness_groundednessevaluator_1lvrl9t0_20240813_125820_245651 for more details.\n"
     ]
    },
    {
     "name": "stdout",
     "output_type": "stream",
     "text": [
      "2024-08-13 12:58:56 -0400  189667 execution          ERROR    5/127 flow run failed, indexes: [20,23,28,70,87], exception of index 20: Execution failure in 'SimilarityEvaluator.__call__': (ValueError) 'question', 'answer' and 'ground_truth' must be non-empty strings.\n"
     ]
    },
    {
     "name": "stderr",
     "output_type": "stream",
     "text": [
      "[2024-08-13 12:58:56 -0400][promptflow._sdk._orchestrator.run_submitter][WARNING] - 5 out of 127 runs failed in batch run.\n",
      " Please check out /home/vhoudebine/.promptflow/.runs/promptflow_evals_evaluators_similarity_similarity_similarityevaluator_tjwu97ma_20240813_125820_250752 for more details.\n"
     ]
    },
    {
     "data": {
      "application/json": {
       "f1_score.f1_score": 0.3334253876172132,
       "groundedness.gpt_groundedness": 4.442622950819672,
       "similarity.gpt_similarity": 4.875
      },
      "text/plain": [
       "<IPython.core.display.JSON object>"
      ]
     },
     "metadata": {
      "application/json": {
       "expanded": false,
       "root": "root"
      }
     },
     "output_type": "display_data"
    }
   ],
   "source": [
    "dataset = '/home/vhoudebine/projects/raft/data/training_data/vampires_eval_batch_run.jsonl'\n",
    "baseline_result = score_dataset(dataset, type=\"baseline\")\n",
    "\n",
    "from IPython.display import display, JSON\n",
    "display(JSON(baseline_result['metrics']))"
   ]
  },
  {
   "cell_type": "code",
   "execution_count": 34,
   "metadata": {},
   "outputs": [
    {
     "name": "stderr",
     "output_type": "stream",
     "text": [
      "[2024-08-13 12:59:12 -0400][promptflow._core.entry_meta_generator][WARNING] - Generate meta in current process and timeout won't take effect. Please handle timeout manually outside current process.\n",
      "[2024-08-13 12:59:12 -0400][promptflow._sdk._orchestrator.run_submitter][INFO] - Submitting run promptflow_evals_evaluators_groundedness_groundedness_groundednessevaluator_bcvnjsz5_20240813_125911_144455, log path: /home/vhoudebine/.promptflow/.runs/promptflow_evals_evaluators_groundedness_groundedness_groundednessevaluator_bcvnjsz5_20240813_125911_144455/logs.txt\n",
      "[2024-08-13 12:59:12 -0400][promptflow._core.entry_meta_generator][WARNING] - Generate meta in current process and timeout won't take effect. Please handle timeout manually outside current process.\n"
     ]
    },
    {
     "name": "stdout",
     "output_type": "stream",
     "text": [
      "Prompt flow service has started...\n",
      "You can view the traces in local from http://127.0.0.1:53411/v1.0/ui/traces/?#run=promptflow_evals_evaluators_groundedness_groundedness_groundednessevaluator_bcvnjsz5_20240813_125911_144455\n",
      "You can view the traces in azure portal since trace destination is set to: azureml://subscriptions/6c065ea7-65cd-4a34-8e2a-3e21ad4a8e9f/resourceGroups/vince-rg/providers/Microsoft.MachineLearningServices/workspaces/raft-demo. The link will be printed once the run is finished.\n",
      "Prompt flow service has started...\n",
      "You can view the traces in local from http://127.0.0.1:53411/v1.0/ui/traces/?#run=promptflow_evals_evaluators_f1_score_f1_score_f1scoreevaluator_painmtes_20240813_125911_132817\n",
      "You can view the traces in azure portal since trace destination is set to: azureml://subscriptions/6c065ea7-65cd-4a34-8e2a-3e21ad4a8e9f/resourceGroups/vince-rg/providers/Microsoft.MachineLearningServices/workspaces/raft-demo. The link will be printed once the run is finished.\n"
     ]
    },
    {
     "name": "stderr",
     "output_type": "stream",
     "text": [
      "[2024-08-13 12:59:12 -0400][promptflow._sdk._orchestrator.run_submitter][INFO] - Submitting run promptflow_evals_evaluators_f1_score_f1_score_f1scoreevaluator_painmtes_20240813_125911_132817, log path: /home/vhoudebine/.promptflow/.runs/promptflow_evals_evaluators_f1_score_f1_score_f1scoreevaluator_painmtes_20240813_125911_132817/logs.txt\n"
     ]
    },
    {
     "name": "stdout",
     "output_type": "stream",
     "text": [
      "Prompt flow service has started...\n",
      "You can view the traces in local from http://127.0.0.1:53411/v1.0/ui/traces/?#run=promptflow_evals_evaluators_similarity_similarity_similarityevaluator_womgd997_20240813_125911_157403\n",
      "You can view the traces in azure portal since trace destination is set to: azureml://subscriptions/6c065ea7-65cd-4a34-8e2a-3e21ad4a8e9f/resourceGroups/vince-rg/providers/Microsoft.MachineLearningServices/workspaces/raft-demo. The link will be printed once the run is finished.\n"
     ]
    },
    {
     "name": "stderr",
     "output_type": "stream",
     "text": [
      "[2024-08-13 12:59:13 -0400][promptflow._core.entry_meta_generator][WARNING] - Generate meta in current process and timeout won't take effect. Please handle timeout manually outside current process.\n",
      "[2024-08-13 12:59:13 -0400][promptflow._sdk._orchestrator.run_submitter][INFO] - Submitting run promptflow_evals_evaluators_similarity_similarity_similarityevaluator_womgd997_20240813_125911_157403, log path: /home/vhoudebine/.promptflow/.runs/promptflow_evals_evaluators_similarity_similarity_similarityevaluator_womgd997_20240813_125911_157403/logs.txt\n",
      "[2024-08-13 12:59:38 -0400][promptflow._sdk._orchestrator.run_submitter][WARNING] - 2 out of 127 runs failed in batch run.\n",
      " Please check out /home/vhoudebine/.promptflow/.runs/promptflow_evals_evaluators_f1_score_f1_score_f1scoreevaluator_painmtes_20240813_125911_132817 for more details.\n"
     ]
    },
    {
     "name": "stdout",
     "output_type": "stream",
     "text": [
      "2024-08-13 12:59:41 -0400  189667 execution          ERROR    2/127 flow run failed, indexes: [63,70], exception of index 63: Execution failure in 'GroundednessEvaluator.__call__': (ValueError) Both 'answer' and 'context' must be non-empty strings.\n"
     ]
    },
    {
     "name": "stderr",
     "output_type": "stream",
     "text": [
      "[2024-08-13 12:59:41 -0400][promptflow._sdk._orchestrator.run_submitter][WARNING] - 2 out of 127 runs failed in batch run.\n",
      " Please check out /home/vhoudebine/.promptflow/.runs/promptflow_evals_evaluators_groundedness_groundedness_groundednessevaluator_bcvnjsz5_20240813_125911_144455 for more details.\n"
     ]
    },
    {
     "name": "stdout",
     "output_type": "stream",
     "text": [
      "2024-08-13 12:59:45 -0400  189667 execution          ERROR    2/127 flow run failed, indexes: [63,70], exception of index 63: Execution failure in 'SimilarityEvaluator.__call__': (ValueError) 'question', 'answer' and 'ground_truth' must be non-empty strings.\n"
     ]
    },
    {
     "name": "stderr",
     "output_type": "stream",
     "text": [
      "[2024-08-13 12:59:45 -0400][promptflow._sdk._orchestrator.run_submitter][WARNING] - 2 out of 127 runs failed in batch run.\n",
      " Please check out /home/vhoudebine/.promptflow/.runs/promptflow_evals_evaluators_similarity_similarity_similarityevaluator_womgd997_20240813_125911_157403 for more details.\n"
     ]
    },
    {
     "data": {
      "application/json": {
       "f1_score.f1_score": 0.8286240693799998,
       "groundedness.gpt_groundedness": 2.104,
       "similarity.gpt_similarity": 4.892857142857143
      },
      "text/plain": [
       "<IPython.core.display.JSON object>"
      ]
     },
     "metadata": {
      "application/json": {
       "expanded": false,
       "root": "root"
      }
     },
     "output_type": "display_data"
    }
   ],
   "source": [
    "dataset = '/home/vhoudebine/projects/raft/data/training_data/vampires_eval_batch_run.jsonl'\n",
    "finetuned_result = score_dataset(dataset, type=\"finetuned\")\n",
    "\n",
    "from IPython.display import display, JSON\n",
    "display(JSON(finetuned_result['metrics']))"
   ]
  },
  {
   "cell_type": "code",
   "execution_count": 35,
   "metadata": {},
   "outputs": [],
   "source": [
    "from ragas.metrics import (\n",
    "    answer_relevancy,\n",
    "    faithfulness,\n",
    "    answer_similarity,\n",
    "    answer_correctness\n",
    ")\n",
    "from ragas.metrics.critique import harmfulness\n",
    "\n",
    "# list of metrics we're going to use\n",
    "metrics = [\n",
    "    faithfulness,\n",
    "    answer_relevancy,\n",
    "    answer_similarity,\n",
    "    answer_correctness\n",
    "]"
   ]
  },
  {
   "cell_type": "code",
   "execution_count": 36,
   "metadata": {},
   "outputs": [],
   "source": [
    "from langchain_openai.chat_models import AzureChatOpenAI\n",
    "from langchain_openai.embeddings import AzureOpenAIEmbeddings\n",
    "from ragas import evaluate\n",
    "\n",
    "azure_model = AzureChatOpenAI(\n",
    "    openai_api_version=\"2024-02-01\",\n",
    "    azure_endpoint=os.getenv(\"AZURE_OPENAI_API_ENDPOINT\"),\n",
    "    azure_deployment=\"gpt-4o-global\",\n",
    "    validate_base_url=False,\n",
    "    api_key=os.getenv(\"AZURE_OPENAI_API_KEY\"),\n",
    ")\n",
    "\n",
    "# init the embeddings for answer_relevancy, answer_correctness and answer_similarity\n",
    "azure_embeddings = AzureOpenAIEmbeddings(\n",
    "    openai_api_version=\"2024-02-01\",\n",
    "    azure_endpoint=os.getenv(\"AZURE_OPENAI_API_ENDPOINT\"),\n",
    "    azure_deployment=\"embed\",\n",
    "    api_key=os.getenv(\"AZURE_OPENAI_API_KEY\"),\n",
    ")"
   ]
  },
  {
   "cell_type": "code",
   "execution_count": 42,
   "metadata": {},
   "outputs": [],
   "source": [
    "from datasets import Dataset\n",
    "baseline_df = val_df[['baseline_final_answer',\n",
    "                      'context',\n",
    "                      'gold_final_answer',\n",
    "                      'question']]\n",
    "\n",
    "baseline_df.rename(columns={'baseline_final_answer':'answer', \n",
    "                            'gold_final_answer':'ground_truth',\n",
    "                            'context':'contexts'}, inplace=True)\n",
    "#baseline_df['ground_truth'] = baseline_df['ground_truth'].apply(lambda x: [x] if x else [])\n",
    "baseline_df['contexts'] = baseline_df['contexts'].apply(lambda x: [x] if x else [])\n",
    "\n",
    "dataset = Dataset.from_pandas(baseline_df)\n"
   ]
  },
  {
   "cell_type": "code",
   "execution_count": 61,
   "metadata": {},
   "outputs": [
    {
     "data": {
      "application/vnd.jupyter.widget-view+json": {
       "model_id": "f67ebe2c76f84ee2bb72123884e874d4",
       "version_major": 2,
       "version_minor": 0
      },
      "text/plain": [
       "Evaluating:   0%|          | 0/508 [00:00<?, ?it/s]"
      ]
     },
     "metadata": {},
     "output_type": "display_data"
    },
    {
     "data": {
      "text/plain": [
       "{'faithfulness': 0.8345, 'answer_relevancy': 0.9290, 'answer_similarity': 0.8738, 'answer_correctness': 0.4072}"
      ]
     },
     "execution_count": 61,
     "metadata": {},
     "output_type": "execute_result"
    }
   ],
   "source": [
    "baseline_result = evaluate(\n",
    "    dataset, metrics=metrics, llm=azure_model, embeddings=azure_embeddings\n",
    ")\n",
    "\n",
    "baseline_result"
   ]
  },
  {
   "cell_type": "code",
   "execution_count": 62,
   "metadata": {},
   "outputs": [
    {
     "data": {
      "application/vnd.jupyter.widget-view+json": {
       "model_id": "dee4eb195a124f09838171fc359c11f0",
       "version_major": 2,
       "version_minor": 0
      },
      "text/plain": [
       "Evaluating:   0%|          | 0/508 [00:00<?, ?it/s]"
      ]
     },
     "metadata": {},
     "output_type": "display_data"
    },
    {
     "data": {
      "text/plain": [
       "{'faithfulness': 0.9075, 'answer_relevancy': 0.9285, 'answer_similarity': 0.9676, 'answer_correctness': 0.8294}"
      ]
     },
     "execution_count": 62,
     "metadata": {},
     "output_type": "execute_result"
    }
   ],
   "source": [
    "finetuned_df = val_df[['finetuned_final_answer',\n",
    "                      'context',\n",
    "                      'gold_final_answer',\n",
    "                      'question']]\n",
    "\n",
    "finetuned_df.rename(columns={'finetuned_final_answer':'answer', \n",
    "                            'gold_final_answer':'ground_truth',\n",
    "                            'context':'contexts'}, inplace=True)\n",
    "#baseline_df['ground_truth'] = baseline_df['ground_truth'].apply(lambda x: [x] if x else [])\n",
    "finetuned_df['contexts'] = finetuned_df['contexts'].apply(lambda x: [x] if x else [])\n",
    "\n",
    "ft_dataset = Dataset.from_pandas(finetuned_df)\n",
    "\n",
    "ft_result = evaluate(\n",
    "    ft_dataset, metrics=metrics, llm=azure_model, embeddings=azure_embeddings\n",
    ")\n",
    "\n",
    "ft_result"
   ]
  },
  {
   "cell_type": "code",
   "execution_count": 69,
   "metadata": {},
   "outputs": [],
   "source": [
    "\n",
    "baseline_dict = dict(baseline_result)\n",
    "ft_dict = dict(ft_result)\n",
    "\n",
    "ft_dict['model']=os.getenv(\"FINETUNED_OPENAI_DEPLOYMENT\")\n",
    "baseline_dict['model']=os.getenv(\"BASELINE_OPENAI_DEPLOYMENT\")\n",
    "\n",
    "results_df = pd.DataFrame([baseline_dict, ft_dict])"
   ]
  },
  {
   "cell_type": "code",
   "execution_count": 76,
   "metadata": {},
   "outputs": [
    {
     "data": {
      "image/png": "[encoded data removed]",
      "text/plain": [
       "<Figure size 1000x600 with 1 Axes>"
      ]
     },
     "metadata": {},
     "output_type": "display_data"
    }
   ],
   "source": [
    "import pandas as pd\n",
    "import matplotlib.pyplot as plt\n",
    "\n",
    "# Assuming you have your results_df DataFrame\n",
    "\n",
    "# Reshape the DataFrame\n",
    "melted_df = results_df.melt(id_vars='model', var_name='metric', value_name='value')\n",
    "melted_df['value'] = melted_df['value'].round(2)\n",
    "\n",
    "# Create the bar plot\n",
    "pivoted_data = melted_df.pivot_table(index='metric', columns='model', values='value')\n",
    "ax = pivoted_data.plot(kind='bar', figsize=(10, 6))\n",
    "\n",
    "# Add value labels on top of the bars\n",
    "for container in ax.containers:\n",
    "    ax.bar_label(container)\n",
    "\n",
    "plt.ylabel('Metric Value')\n",
    "plt.title('Model Comparison by Metric')\n",
    "plt.show()"
   ]
  },
  {
   "cell_type": "code",
   "execution_count": null,
   "metadata": {},
   "outputs": [],
   "source": []
  }
 ],
 "metadata": {
  "kernelspec": {
   "display_name": "openai",
   "language": "python",
   "name": "python3"
  },
  "language_info": {
   "codemirror_mode": {
    "name": "ipython",
    "version": 3
   },
   "file_extension": ".py",
   "mimetype": "text/x-python",
   "name": "python",
   "nbconvert_exporter": "python",
   "pygments_lexer": "ipython3",
   "version": "3.11.8"
  }
 },
 "nbformat": 4,
 "nbformat_minor": 2
}
