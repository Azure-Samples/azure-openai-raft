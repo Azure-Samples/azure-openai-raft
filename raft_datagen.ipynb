{
 "cells": [
  {
   "cell_type": "code",
   "execution_count": 1,
   "metadata": {},
   "outputs": [],
   "source": [
    "from openai import AzureOpenAI\n",
    "from langchain_experimental.text_splitter import SemanticChunker\n",
    "from langchain_openai.embeddings import AzureOpenAIEmbeddings\n",
    "from dotenv import load_dotenv\n",
    "import os\n",
    "import PyPDF2\n",
    "from math import ceil\n",
    "\n",
    "\n",
    "load_dotenv()\n",
    "\n",
    "client = AzureOpenAI(\n",
    "    azure_endpoint=os.getenv(\"AZURE_OPENAI_API_ENDPOINT\"),\n",
    "    api_version=\"2024-02-01\",\n",
    "    api_key=os.getenv(\"AZURE_OPENAI_API_KEY\")\n",
    ")"
   ]
  },
  {
   "cell_type": "code",
   "execution_count": 2,
   "metadata": {},
   "outputs": [],
   "source": [
    "# chunk the input document \n",
    "data_path = \"data/vampires/Vampire - Wikipedia.pdf\"\n",
    "CHUNK_SIZE = 512\n",
    "embedding_deployment = \"embed\"\n",
    "\n",
    "text=\"\"\n",
    "with open(data_path, 'rb') as file:\n",
    "    reader = PyPDF2.PdfReader(file)\n",
    "    num_pages = len(reader.pages)\n",
    "    for page_num in range(num_pages):\n",
    "        page = reader.pages[page_num]\n",
    "        text += page.extract_text()\n",
    "\n",
    "num_chunks = ceil(len(text) / CHUNK_SIZE)"
   ]
  },
  {
   "cell_type": "code",
   "execution_count": 3,
   "metadata": {},
   "outputs": [],
   "source": [
    "def build_langchain_embeddings():\n",
    "\n",
    "    embedding_client = AzureOpenAIEmbeddings(\n",
    "        azure_endpoint=os.getenv(\"AZURE_OPENAI_API_ENDPOINT\"),\n",
    "        api_version=\"2024-02-01\",\n",
    "        api_key=os.getenv(\"AZURE_OPENAI_API_KEY\"),\n",
    "        deployment=\"embed\"\n",
    "    )\n",
    "\n",
    "    return embedding_client\n",
    "\n",
    "embed_client = build_langchain_embeddings()\n"
   ]
  },
  {
   "cell_type": "code",
   "execution_count": 4,
   "metadata": {},
   "outputs": [],
   "source": [
    "text_splitter = SemanticChunker(embed_client)\n",
    "chunks = text_splitter.create_documents([text])\n",
    "chunks = [chunk.page_content for chunk in chunks]\n",
    "print(f'Number of chunks: {len(chunks)}')"
   ]
  },
  {
   "cell_type": "code",
   "execution_count": 5,
   "metadata": {},
   "outputs": [],
   "source": [
    "from typing import Literal, Any\n",
    "\n",
    "def strip_str(s: str) -> str:\n",
    "    \"\"\"\n",
    "    Helper function for helping format strings returned by GPT-4.\n",
    "    \"\"\"\n",
    "    l, r = 0, len(s)-1\n",
    "    beg_found = False\n",
    "    for i in range(len(s)):\n",
    "        if s[i].isalpha():\n",
    "            if not beg_found:\n",
    "                l = i\n",
    "                beg_found = True\n",
    "            else:\n",
    "                r = i \n",
    "    r += 2\n",
    "    return s[l:min(r, len(s))]\n",
    "\n",
    "def generate_instructions_gen(client: AzureOpenAI, chunk: Any, x: int = 5, model: str = None) -> list[str]:\n",
    "    \"\"\"\n",
    "    Generates `x` questions / use cases for `chunk`. Used when the input document is of general types \n",
    "    `pdf`, `json`, or `txt`.\n",
    "    \"\"\"\n",
    "    response = client.chat.completions.create(\n",
    "        model=model,\n",
    "        messages=[\n",
    "            {\"role\": \"system\", \"content\": \"You are a synthetic question-answer pair generator. Given a chunk of context about some topic(s), generate %s example questions a user could ask and would be answered using information from the chunk. For example, if the given context was a Wikipedia paragraph about the United States, an example question could be 'How many states are in the United States?'\" % (x)},\n",
    "            {\"role\": \"system\", \"content\": \"The questions should be able to be answered in a few words or less. Include only the questions in your response.\"},\n",
    "            {\"role\": \"user\", \"content\": str(chunk)}\n",
    "        ]\n",
    "    )\n",
    "\n",
    "    queries = response.choices[0].message.content.split('\\n')\n",
    "    queries = [strip_str(q) for q in queries]\n",
    "    queries = [q for q in queries if any(c.isalpha() for c in q)]\n",
    "\n",
    "    return queries "
   ]
  },
  {
   "cell_type": "code",
   "execution_count": 6,
   "metadata": {},
   "outputs": [],
   "source": [
    "chunk = chunks[0]\n",
    "\n",
    "queries = generate_instructions_gen(client, chunk, x=5, model=\"gpt-4o-global\")"
   ]
  },
  {
   "cell_type": "code",
   "execution_count": 7,
   "metadata": {},
   "outputs": [
    {
     "data": {
      "text/plain": [
       "['What is a vampire in folklore believed to feed on?',\n",
       " 'In which novel by Bram Stoker is the quintessential vampire fiction found?',\n",
       " 'From which languages is the term \"vampire\" derived?',\n",
       " 'What Albanian words are used for vampire-like entities?',\n",
       " 'What Old Slavic and Turkic term is the modern word \"Vampire\" believed to originate from?']"
      ]
     },
     "execution_count": 7,
     "metadata": {},
     "output_type": "execute_result"
    }
   ],
   "source": [
    "qs = queries\n",
    "qs"
   ]
  },
  {
   "cell_type": "code",
   "execution_count": 16,
   "metadata": {},
   "outputs": [],
   "source": [
    "import datasets\n",
    "from datasets import Dataset, load_dataset\n",
    "import random\n",
    "from typing import Any\n",
    "\n",
    "def encode_question_gen(question: str, chunk: Any) -> list[str]:\n",
    "    \"\"\"\n",
    "    Encode multiple prompt instructions into a single string for the general case (`pdf`, `json`, or `txt`).\n",
    "    \"\"\"\n",
    "    \n",
    "    prompts = []\n",
    "        \n",
    "    prompt = \"\"\"\n",
    "        Question: {question}\\nContext: {context}\\n\n",
    "        Answer this question using the information given in the context above. Here is things to pay attention to: \n",
    "        - First provide step-by-step reasoning on how to answer the question. \n",
    "        - In the reasoning, if you need to copy paste some sentences from the context, include them in ##begin_quote## and ##end_quote##. This would mean that things outside of ##begin_quote## and ##end_quote## are not directly copy paste from the context. \n",
    "        - End your response with final answer in the form <ANSWER>: $answer, the answer should be succinct.\n",
    "        You MUST begin your final answer with the tag \"<ANSWER>:\".\n",
    "    \"\"\".format(question=question, context=str(chunk))\n",
    "    prompts.append({\"role\": \"system\", \"content\": \"You are a helpful question answerer who can provide an answer given a question and relevant context.\"})\n",
    "    prompts.append({\"role\": \"user\", \"content\": prompt})\n",
    "    return prompts\n",
    "\n",
    "def generate_label(client: AzureOpenAI, question: str, context: Any, doctype: Any = \"pdf\", model: str = None) -> str | None:\n",
    "    \"\"\"\n",
    "    Generates the label / answer to `question` using `context` and GPT-4.\n",
    "    \"\"\"\n",
    "    question = encode_question_gen(question, context)\n",
    "    response = client.chat.completions.create(\n",
    "        model=model,\n",
    "        messages=question,\n",
    "        n=1,\n",
    "        temperature=0\n",
    "    )\n",
    "    response = response.choices[0].message.content\n",
    "    return response\n",
    "\n",
    "def add_chunk_to_dataset(\n",
    "    client: AzureOpenAI,\n",
    "    chunks: list[str], \n",
    "    chunk: str, \n",
    "    x: int = 5, \n",
    "    num_distract: int = 3, \n",
    "    p: float = 0.8,\n",
    "    model: str = None\n",
    ") -> None:\n",
    "    \"\"\"\n",
    "    Given a chunk, create {Q, A, D} triplets and add them to the dataset.\n",
    "    \"\"\"\n",
    "    global ds\n",
    "    global errors\n",
    "    i = chunks.index(chunk)\n",
    "    try:\n",
    "        qs = generate_instructions_gen(client, chunk, x, model)\n",
    "    except Exception as e:\n",
    "        errors.append(e)\n",
    "        return None\n",
    "    for q in qs:\n",
    "        datapt = {\n",
    "            \"id\": None,\n",
    "            \"type\": None,\n",
    "            \"question\": None,\n",
    "            \"context\": None,\n",
    "            \"oracle_context\": None,\n",
    "            \"cot_answer\": None\n",
    "        }\n",
    "\n",
    "        datapt[\"id\"] = f\"seed_task_{0 if not ds else ds.num_rows}\"\n",
    "        datapt[\"type\"] = \"general\"\n",
    "        datapt[\"question\"] = q\n",
    "\n",
    "        # add num_distract distractor docs\n",
    "        docs = [chunk]\n",
    "        indices = list(range(0, len(chunks)))\n",
    "        indices.remove(i)\n",
    "        for j in random.sample(indices, num_distract):\n",
    "            docs.append(chunks[j])\n",
    "        \n",
    "        # decides whether to add oracle document\n",
    "        oracle = random.uniform(0, 1) < p\n",
    "        if not oracle:\n",
    "            docs[0] = chunks[random.sample(indices, 1)[0]]\n",
    "        random.shuffle(docs)\n",
    "\n",
    "        d = {\n",
    "            \"title\": [],\n",
    "            \"sentences\": []\n",
    "        }\n",
    "\n",
    "        d[\"title\"].append([\"placeholder_title\"]*(num_distract+1))\n",
    "        d[\"sentences\"].append(docs)\n",
    "        datapt[\"context\"] = d\n",
    "        datapt[\"oracle_context\"] = chunk\n",
    "\n",
    "        # add answer to q\n",
    "        try:\n",
    "            datapt[\"cot_answer\"] = generate_label(client, q, chunk, doctype=\"pdf\", model=model)\n",
    "        except Exception as e:\n",
    "            errors.append(e)\n",
    "            continue\n",
    "\n",
    "        # construct model instruction \n",
    "        context = \"\"\n",
    "        for doc in docs:\n",
    "            context += \"<DOCUMENT>\" + str(doc) + \"</DOCUMENT>\\n\"\n",
    "        context += q\n",
    "        datapt[\"instruction\"] = context\n",
    "\n",
    "        # add to dataset\n",
    "        if not ds:\n",
    "            # init ds\n",
    "            datapt[\"id\"] = [datapt[\"id\"]]\n",
    "            datapt[\"type\"] = [datapt[\"type\"]]\n",
    "            datapt[\"question\"] = [datapt[\"question\"]]\n",
    "            datapt[\"context\"] = [datapt[\"context\"]]\n",
    "            datapt[\"oracle_context\"] = [datapt[\"oracle_context\"]]\n",
    "            datapt[\"cot_answer\"] = [datapt[\"cot_answer\"]]\n",
    "            datapt[\"instruction\"] = [datapt[\"instruction\"]]\n",
    "            ds = Dataset.from_dict(datapt)\n",
    "        else:\n",
    "            ds = ds.add_item(datapt)"
   ]
  },
  {
   "cell_type": "code",
   "execution_count": 17,
   "metadata": {},
   "outputs": [
    {
     "name": "stderr",
     "output_type": "stream",
     "text": [
      "  0%|          | 0/11 [00:00<?, ?it/s]"
     ]
    }
   ],
   "source": [
    "import concurrent.futures\n",
    "from tqdm import tqdm\n",
    "\n",
    "ds = None\n",
    "errors = []\n",
    "def process_chunk(chunk):\n",
    "    add_chunk_to_dataset(client, chunks, chunk, \"pdf\", 5, 3, model=\"gpt-4o-global\")\n",
    "\n",
    "with concurrent.futures.ThreadPoolExecutor(max_workers=5) as executor:\n",
    "    futures = []\n",
    "    results = list(tqdm(executor.map(process_chunk, chunks), total=len(chunks)))"
   ]
  },
  {
   "cell_type": "code",
   "execution_count": 15,
   "metadata": {},
   "outputs": [
    {
     "data": {
      "text/plain": [
       "(108, 7)"
      ]
     },
     "execution_count": 15,
     "metadata": {},
     "output_type": "execute_result"
    }
   ],
   "source": [
    "training_df = ds.to_pandas()\n",
    "training_df.shape"
   ]
  },
  {
   "cell_type": "code",
   "execution_count": 13,
   "metadata": {},
   "outputs": [],
   "source": [
    "training_df[\"messages\"] = training_df.apply(lambda x: [\n",
    "                                                     {\"role\":\"user\", \"content\":x['instruction']},\n",
    "                                                     {\"role\":\"assistant\", \"content\":x['cot_answer']}\n",
    "                                                     ], axis=1)"
   ]
  },
  {
   "cell_type": "code",
   "execution_count": 14,
   "metadata": {},
   "outputs": [
    {
     "data": {
      "text/plain": [
       "[{'role': 'user',\n",
       "  'content': '<DOCUMENT>The non-decay of vampires\\' bodies couldrecall the incorruption of the bodies of the saints of the Catholic andOrthodox Churches. Indeed, vampires were traditionally consideredhighly problematic within Christianity, as their apparent immortalexistence ran against the Christian belief that all true believers may look forward to an eternalexistence with body and soul as they were resurrected, but only at the end of time when Jesus returnsto judge the living and the dead. Those who are resurrected as immortal before this are thus in no waypart of the divine plan of salvation. The imperfect state of the vampire body and how they, in spite oftheir immortal nature, still needed to feed of the blood of the living, further reflected the problematicaspect of the vampires. Contrary to how the incorruptible saints foreshadowed the immortalitypromised all true Christians at the end of time, the immortality of the undead vampires was thus not asign of salvation, but of perdition.[83] The unholy dimension of vampirism may also be reflected inhow, in parts of Russia, the very word heretic, eretik, was synonymous with a vampire. Whoeverdenied God or his commandments became an eretik after his death, the improperly immortal figurethat wandered the night in search of people to feed on.[84] A paragraph on vampires was included inthe second edition (1749) of De servorum Dei beatificatione et sanctorum canonizatione, On thebeatification of the servants of God and on canonization of the blessed, written by ProsperoLambertini (Pope Benedict XIV).[85] In his opinion, while the incorruption of the bodies of saints wasthe effect of a divine intervention, all the phenomena attributed to vampires were purely natural or thefruit of \"imagination, terror and fear\". In other words, vampires did not exist.[86]During the 18th century, there was a frenzy of vampire sightings in Eastern Europe, with frequentstakings and grave diggings to identify and kill the potential revenants. Even government officialsengaged in the hunting and staking of vampires.[78] Despite being called the Age of Enlightenment,during which most folkloric legends were quelled, the belief in vampires increased dramatically,resulting in a mass hysteria throughout most of Europe.[20] The panic began with an outbreak ofalleged vampire attacks in East Prussia in 1721 and in the Habsburg monarchy from 1725 to 1734,which spread to other localities. Two infamous vampire cases, the first to be officially recorded,involved the corpses of Petar Blagojevich and Miloš Čečar from Serbia. Blagojevich was reported tohave died at the age of 62, but allegedly returned after his death asking his son for food. When the sonrefused, he was found dead the following day. Blagojevich supposedly returned and attacked someneighbours who died from loss of blood.[78]In the second case, Miloš, an ex-soldier-turned-farmer who allegedly was attacked by a vampire yearsbefore, died while haying. After his death, people began to die in the surrounding area and it waswidely believed that Miloš had returned to prey on the neighbours.[87][88] Another infamous Serbianvampire legend recounts the story of a certain Sava Savanović, who lives in a watermill and kills anddrinks blood from the millers. The character was later used in the story After Ninety Years (1880)written by Serbian writer Milovan Glišić and in the Yugoslav 1973 horror film Leptirica inspired bythe story.[89]The two incidents were well-documented. Government officials examined the bodies, wrote casereports, and published books throughout Europe.[88] The hysteria, commonly referred to as the \"18th-Century Vampire Controversy\", continued for a generation. The problem was exacerbated by ruralepidemics of so-called vampire attacks, undoubtedly caused by the higher amount of superstition thatwas present in village communities, with locals digging up bodies and in some cases, staking them.[90]Dom Augustine Calmet, a French theologian and scholar, published a comprehensive treatise in 1751titled Treatise on the Apparitions of Spirits and on Vampires or Revenants which investigated andanalysed the evidence for vampirism.[90][b] Numerous readers, including both a critical Voltaire andnumerous supportive demonologists interpreted the treatise as claiming that vampires existed.[90][c]18th-century vampire controversyEngraving of DomAugustine Calmet from1750The controversy in Austria ceased when Empress Maria Theresa sent herpersonal physician, Gerard van Swieten, to investigate the claims ofvampiric entities. He concluded that vampires did not exist and theEmpress passed laws prohibiting the opening of graves and desecration ofbodies, ending the vampire epidemics. Other European countriesfollowed suit. Despite this condemnation, the vampire lived on in artisticworks and in local folklore.[90]Beings having many of the attributes of European vampires appear in thefolklore of Africa, Asia, North and South America, and India. Classified asvampires, all share the thirst for blood.[93]Various regions of Africa have folktales featuring beings with vampiricabilities: in West Africa the Ashanti people tell of the iron-toothed andtree-dwelling asanbosam,[94] and the Ewe people of the adze, which cantake the form of a firefly and hunts children.[95] The eastern Cape region has the impundulu, whichcan take the form of a large taloned bird and can summon thunder and lightning, and the Betsileopeople of Madagascar tell of the ramanga, an outlaw or living vampire who drinks the blood and eatsthe nail clippings of nobles.[96] In colonial East Africa, rumors circulated to the effect that employeesof the state such as firemen and nurses were vampires, known in Swahili as wazimamoto.[97]The Rougarou is an example of how a vampire belief can result from a combination of beliefs, here amixture of French and African Vodu or voodoo. The term Rougarou possibly comes from the Frenchloup-garou (meaning \"werewolf\") and is common in the culture of Mauritius. The stories of theRougarou are widespread through the Caribbean Islands and Louisiana in the United States.[98]Similar female monsters are the Soucouyant of Trinidad, and the Tunda and Patasola of Colombianfolklore, while the Mapuche of southern Chile have the bloodsucking snake known as the Peuchen.[99]Aloe vera hung backwards behind or near a door was thought to ward off vampiric beings in SouthAmerican folklore.[31] Aztec mythology described tales of the Cihuateteo, skull-faced spirits of thosewho died in childbirth who stole children and entered into sexual liaisons with the living, driving themmad.[25]During the late 18th and 19th centuries the belief in vampires was widespread in parts of NewEngland, particularly in Rhode Island and eastern Connecticut. There are many documented cases offamilies disinterring loved ones and removing their hearts in the belief that the deceased was avampire who was responsible for sickness and death in the family, although the term \"vampire\" wasnever used to describe the dead. The deadly disease tuberculosis, or \"consumption\" as it was known atthe time, was believed to be caused by nightly visitations on the part of a dead family member whohad died of consumption themselves.[100] The most famous, and most recently recorded, case ofNon-European beliefsAfrica\\nAmericasA stilt house typical of the Tai Damethnic minority of Vietnam, whosecommunities were said to beterrorized by the blood-sucking macà rồng.suspected vampirism is that of nineteen-year-old Mercy Brown, who died in Exeter, Rhode Island in1892. Her father, assisted by the family physician, removed her from her tomb two months after herdeath, cut out her heart and burned it to ashes.[101]Vampires have appeared in Japanese cinema since the late 1950s; the folklore behind it is western inorigin.[102] The Nukekubi is a being whose head and neck detach from its body to fly about seekinghuman prey at night.[103] Legends of female vampiric beings who can detach parts of their upper bodyalso occur in the Philippines, Malaysia, and Indonesia. There are two main vampiric creatures in thePhilippines: the Tagalog Mandurugo (\"blood-sucker\") and the Visayan Manananggal (\"self-segmenter\"). The mandurugo is a variety of the aswang that takes the form of an attractive girl by day,and develops wings and a long, hollow, threadlike tongue by night. The tongue is used to suck upblood from a sleeping victim.[104] The manananggal is described as being an older, beautiful womancapable of severing its upper torso in order to fly into the night with huge batlike wings and prey onunsuspecting, sleeping pregnant women in their homes. They use an elongated proboscis-like tongueto suck fetuses from these pregnant women. They also prefer to eat entrails (specifically the heart andthe liver) and the phlegm of sick people.[104]The Malaysian Penanggalan is a woman who obtained her beauty through the active use of blackmagic or other unnatural means, and is most commonly described in local folklore to be dark ordemonic in nature. She is able to detach her fanged head which flies around in the night looking forblood, typically from pregnant women.[105] Malaysians hung jeruju (thistles) around the doors andwindows of houses, hoping the Penanggalan would not enter for fear of catching its intestines on thethorns.[106] The Leyak is a similar being from Balinese folklore of Indonesia.[107] A Kuntilanak orMatianak in Indonesia,[108] or Pontianak or Langsuir in Malaysia,[109] is a woman who died duringchildbirth and became undead, seeking revenge and terrorising villages. She appeared as an attractivewoman with long black hair that covered a hole in the back of her neck, with which she sucked theblood of children.</DOCUMENT>\\n<DOCUMENT>In 1932, an unsolved murder case inStockholm, Sweden, was nicknamed the \"Vampire murder\", because of the circumstances of thevictim\\'s death.[148] The late-16th-century Hungarian countess and mass murderer Elizabeth Báthorybecame infamous in later centuries\\' works, which depicted her bathing in her victims\\' blood to retainbeauty or youth.[149]Although many cultures have stories about them, vampire bats have only recently become an integralpart of the traditional vampire lore. Vampire bats were integrated into vampire folklore after theywere discovered on the South American mainland in the 16th century.[150] There are no vampire batsin Europe, but bats and owls have long been associated with the supernatural and omens, mainlybecause of their nocturnal habits.[150][151]The three species of vampire bats are all endemic to Latin America, and there is no evidence to suggestthat they had any Old World relatives within human memory. It is therefore impossible that thefolkloric vampire represents a distorted presentation or memory of the vampire bat. The bats werePolitical interpretations\\nPsychopathology\\nVampire batsA vampire bat in Peru.named after the folkloric vampire rather than vice versa; theOxford English Dictionary records their folkloric use in Englishfrom 1734 and the zoological not until 1774. The danger of rabiesinfection aside, the vampire bat\\'s bite is usually not harmful to aperson, but the bat has been known to actively feed on humansand large prey such as cattle and often leaves the trademark, two-prong bite mark on its victim\\'s skin.[150]The literary Dracula transforms into a bat several times in thenovel, and vampire bats themselves are mentioned twice in it. The1927 stage production of Dracula followed the novel in havingDracula turn into a bat, as did the film, where Béla Lugosi wouldtransform into a bat.[150] The bat transformation scene was usedagain by Lon Chaney Jr.</DOCUMENT>\\n<DOCUMENT>Despite the occurrence of vampiric creatures in these ancientcivilizations, the folklore for the entity known today as the vampire originates almost exclusively fromearly 18th-century southeastern Europe,[19] when verbal traditions of many ethnic groups of theregion were recorded and published. In most cases, vampires are revenants of evil beings, suicidevictims, or witches, but they can also be created by a malevolent spirit possessing a corpse or by beingbitten by a vampire. Belief in such legends became so pervasive that in some areas it caused masshysteria and even public executions of people believed to be vampires.[20]It is difficult to make a single, definitive description of the folkloric vampire, though there are severalelements common to many European legends. Vampires were usually reported as bloated inappearance, and ruddy, purplish, or dark in colour; these characteristics were often attributed to theFolk beliefs\\nDescription and common attributesVampire (1895) by Edvard Munch\\nIllustration of a vampirefrom Max Ernst\\'s UneSemaine de Bonté (1934)recent drinking of blood, which was often seen seeping from themouth and nose when one was seen in its shroud or coffin, and itsleft eye was often open.[21] It would be clad in the linen shroud itwas buried in, and its teeth, hair, and nails may have grownsomewhat, though in general fangs were not a feature.[22] Chewingsounds were reported emanating from graves.[23]The causes of vampiric generation were many and varied inoriginal folklore. In Slavic and Chinese traditions, any corpse thatwas jumped over by an animal, particularly a dog or a cat, wasfeared to become one of the undead.[24] A body with a wound that hadnot been treated with boiling water was also at risk. In Russian folklore,vampires were said to have once been witches or people who had rebelledagainst the Russian Orthodox Church while they were alive.[25]In Albanian folklore, the dhampir is the hybrid child of the karkanxholl (alycanthropic creature with an iron mail shirt) or the lugat (a water-dwelling ghost or monster). The dhampir sprung of a karkanxholl has theunique ability to discern the karkanxholl; from this derives theexpression the dhampir knows the lugat. The lugat cannot be seen, hecan only be killed by the dhampir, who himself is usually the son of alugat. In different regions, animals can be revenants as lugats; also, livingpeople during their sleep. Dhampiraj is also an Albanian surname.[26]Cultural practices often arose that were intended to prevent a recentlydeceased loved one from turning into an undead revenant. Burying a corpse upside-down waswidespread, as was placing earthly objects, such as scythes or sickles,[27] near the grave to satisfy anydemons entering the body or to appease the dead so that it would not wish to arise from its coffin.</DOCUMENT>\\n<DOCUMENT>Calmet conducted extensive research and amassed judicial reports of vampiric incidents andextensively researched theological and mythological accounts as well, using the scientiﬁc methodin his analysis to come up with methods for determining the validity for cases of this nature. As hestated in his treatise:[91]They see, it is said, men who have been dead for several months, come back to earth,talk, walk, infest villages, ill use both men and beasts, suck the blood of their nearrelations, make them ill, and ﬁnally cause their death; so that people can only savethemselves from their dangerous visits and their hauntings by exhuming them,impaling them, cutting off their heads, tearing out the heart, or burning them. TheseGamesModern vampire subculturesNotes</DOCUMENT>\\n<DOCUMENT>in 1943\\'s Son of Dracula.[152]The vampire is now a fixture in popular fiction. Such fiction began with 18th-century poetry andcontinued with 19th-century short stories, the first and most influential of which was John Polidori\\'s\"The Vampyre\" (1819), featuring the vampire Lord Ruthven.[153] Lord Ruthven\\'s exploits were furtherexplored in a series of vampire plays in which he was the antihero. The vampire theme continued inpenny dreadful serial publications such as Varney the Vampire (1847) and culminated in the pre-eminent vampire novel in history: Dracula by Bram Stoker, published in 1897.[154]Over time, some attributes now regarded as integral became incorporated into the vampire\\'s profile:fangs and vulnerability to sunlight appeared over the course of the 19th century, with Varney theVampire and Count Dracula both bearing protruding teeth,[155] and Count Orlok of Murnau\\'sNosferatu (1922) fearing daylight.[156] The cloak appeared in stage productions of the 1920s, with ahigh collar introduced by playwright Hamilton Deane to help Dracula \\'vanish\\' on stage.[157] LordRuthven and Varney were able to be healed by moonlight, although no account of this is known intraditional folklore.[158] Implied though not often explicitly documented in folklore, immortality isone attribute which features heavily in vampire films and literature. Much is made of the price ofeternal life, namely the incessant need for the blood of former equals.[159]The vampire or revenant first appeared in poems such as The Vampire (1748) by Heinrich AugustOssenfelder, Lenore (1773) by Gottfried August Bürger, Die Braut von Corinth (The Bride of Corinth)(1797) by Johann Wolfgang von Goethe, Robert Southey\\'s Thalaba the Destroyer (1801), John Stagg\\'s\"The Vampyre\" (1810), Percy Bysshe Shelley\\'s \"The Spectral Horseman\" (1810) (\"Nor a yellingvampire reeking with gore\") and \"Ballad\" in St. Irvyne (1811) about a reanimated corpse, Sister Rosa,Samuel Taylor Coleridge\\'s unfinished Christabel and Lord Byron\\'s The Giaour.[160]Byron was also credited with the first prose fiction piece concerned with vampires: \"The Vampyre\"(1819). This was in reality authored by Byron\\'s personal physician, John Polidori, who adapted anenigmatic fragmentary tale of his illustrious patient, \"Fragment of a Novel\" (1819), also known as \"TheIn modern culture\\nLiteratureCover from one of theoriginal serialized editionsof Varney the Vampire\\nCarmilla by Sheridan Le Fanu,illustrated by D. H. Friston, 1872.Burial: A Fragment\".[20][154] Byron\\'s own dominating personality,mediated by his lover Lady Caroline Lamb in her unflattering roman-a-clef Glenarvon (a Gothic fantasia based on Byron\\'s wild life), was used asa model for Polidori\\'s undead protagonist Lord Ruthven. The Vampyrewas highly successful and the most influential vampire work of the early19th century.[161]Varney the Vampire was a popular mid-Victorian era gothic horror storyby James Malcolm Rymer and Thomas Peckett Prest, which firstappeared from 1845 to 1847 in a series of pamphlets generally referred toas penny dreadfuls because of their low price and gruesome contents.[153]Published in book form in 1847, the story runs to 868 double-columnedpages. It has a distinctly suspenseful style, using vivid imagery to describethe horrifying exploits of Varney.[158] Another important addition to thegenre was Sheridan Le Fanu\\'s lesbian vampire story Carmilla (1871). LikeVarney before her, the vampiress Carmilla is portrayed in a somewhatsympathetic light as the compulsion of her condition is highlighted.[162]No effort to depict vampires in popular fiction was as influential oras definitive as Bram Stoker\\'s Dracula (1897).[163] Its portrayal ofvampirism as a disease of contagious demonic possession, with itsundertones of sex, blood and death, struck a chord in VictorianEurope where tuberculosis and syphilis were common. Thevampiric traits described in Stoker\\'s work merged with anddominated folkloric tradition, eventually evolving into the modernfictional vampire.[153]Drawing on past works such as The Vampyre and Carmilla, Stokerbegan to research his new book in the late 19th century, readingworks such as The Land Beyond the Forest (1888) by EmilyGerard and other books about Transylvania and vampires. In London, a colleague mentioned to himthe story of Vlad Ţepeş, the \"real-life Dracula\", and Stoker immediately incorporated this story intohis book. The first chapter of the book was omitted when it was published in 1897, but it was releasedin 1914 as \"Dracula\\'s Guest\".[164]The latter part of the 20th century saw the rise of multi-volume vampire epics as well as a renewedinterest in the subject in books. The first of these was Gothic romance writer Marilyn Ross\\'s BarnabasCollins series (1966–71), loosely based on the contemporary American TV series Dark Shadows. Italso set the trend for seeing vampires as poetic tragic heroes rather than as the more traditionalembodiment of evil. This formula was followed in novelist Anne Rice\\'s highly popular VampireChronicles (1976–2003),[165] and Stephenie Meyer\\'s Twilight series (2005–2008).[166]Considered one of the preeminent figures of the classic horror film, the vampire has proven to be arich subject for the film, television, and gaming industries. Dracula is a major character in more filmsthan any other but Sherlock Holmes, and many early films were either based on the novel Dracula orFilm and televisionA scene from F. W.</DOCUMENT>\\n<DOCUMENT>Thismethod resembles the ancient Greek practice of placing an obolus in the corpse\\'s mouth to pay the tollto cross the River Styx in the underworld. The coin may have also been intended to ward off any evilspirits from entering the body, and this may have influenced later vampire folklore. This traditionpersisted in modern Greek folklore about the vrykolakas, in which a wax cross and piece of potterywith the inscription \"Jesus Christ conquers\" were placed on the corpse to prevent the body frombecoming a vampire.[28]Other methods commonly practised in Europe included severing the tendons at the knees or placingpoppy seeds, millet, or sand on the ground at the grave site of a presumed vampire; this was intendedto keep the vampire occupied all night by counting the fallen grains,[29][30] indicating an associationof vampires with arithmomania. Similar Chinese narratives state that if a vampiric being came acrossCreating vampires\\nPreventionGarlic, Bibles, cruciﬁxes, rosaries,holy water, and mirrors have all beenseen in various folkloric traditions asmeans of warding against oridentifying vampires.[38][39]a sack of rice, it would have to count every grain; this is a theme encountered in myths from theIndian subcontinent, as well as in South American tales of witches and other sorts of evil ormischievous spirits or beings.[31]Many rituals were used to identify a vampire. One method of finding a vampire\\'s grave involvedleading a virgin boy through a graveyard or church grounds on a virgin stallion—the horse wouldsupposedly balk at the grave in question.[25] Generally a black horse was required, though in Albaniait should be white.[32] Holes appearing in the earth over a grave were taken as a sign of vampirism.[33]Corpses thought to be vampires were generally described as having a healthier appearance thanexpected, plump and showing little or no signs of decomposition.[34] In some cases, when suspectedgraves were opened, villagers even described the corpse as having fresh blood from a victim all over itsface.[35] Evidence that a vampire was active in a given locality included death of cattle, sheep, relativesor neighbours. Folkloric vampires could also make their presence felt by engaging in minorpoltergeist-styled activity, such as hurling stones on roofs or moving household objects,[36] andpressing on people in their sleep.[37]Apotropaics—items able to ward off revenants—are common invampire folklore. Garlic is a common example;[40] a branch ofwild rose and hawthorn are sometimes associated with causingharm to vampires, and in Europe, mustard seeds would besprinkled on the roof of a house to keep them away.[41] Otherapotropaics include sacred items, such as crucifix, rosary, or holywater. Some folklore also states that vampires are unable to walkon consecrated ground, such as that of churches or temples, orcross running water.[39]Although not traditionally regarded as an apotropaic, mirrorshave been used to ward off vampires when placed, facingoutwards, on a door (in some cultures, vampires do not have areflection and sometimes do not cast a shadow, perhaps as amanifestation of the vampire\\'s lack of a soul).[42] This attributeis not universal (the Greek vrykolakas/tympanios was capable of both reflection and shadow), butwas used by Bram Stoker in Dracula and has remained popular with subsequent authors andfilmmakers.[43]Some traditions also hold that a vampire cannot enter a house unless invited by the owner; after thefirst invitation they can come and go as they please.[42] Though folkloric vampires were believed to bemore active at night, they were not generally considered vulnerable to sunlight.[43]Reports in 1693 and 1694 concerning citings of vampires in Poland and Russia claimed that when avampire\\'s grave was recognized, eating bread baked with its blood mixed into the flour,[44] or simplydrinking it, granted the possibility of protection. Other stories (primarily the Arnold Paole case)Identifying vampires\\nProtectionA runestone with aninscription to keep thedeceased in its grave.[46]\\n800-year-old skeleton found inBulgaria stabbed through the chestwith an iron rod.[58]claimed the eating of dirt from the vampire\\'s grave would have the same effect.[45]Methods of destroying suspected vampires varied, with staking the mostcommonly cited method, particularly in South Slavic cultures.[47] Ash wasthe preferred wood in Russia and the Baltic states,[48] or hawthorn inSerbia,[49] with a record of oak in Silesia.[50][51] Aspen was also used forstakes, as it was believed that Christ\\'s cross was made from aspen (aspenbranches on the graves of purported vampires were also believed toprevent their risings at night).[52] Potential vampires were most oftenstaked through the heart, though the mouth was targeted in Russia andnorthern Germany[53][54] and the stomach in north-eastern Serbia.[55]Piercing the skin of the chest was a way of \"deflating\" the bloatedvampire. This is similar to a practice of \"anti-vampire burial\": buryingsharp objects, such as sickles, with the corpse, so that they may penetratethe skin if the body bloats sufficiently while transforming into arevenant.[56]Decapitation was the preferred method in German and western Slavicareas, with the head buried between the feet, behind the buttocks or away from the body.[47] This actwas seen as a way of hastening the departure of the soul, which in some cultures was said to linger inthe corpse. The vampire\\'s head, body, or clothes could also be spiked and pinned to the earth toprevent rising.[57]Romani people drove steel or iron needles into a corpse\\'s heartand placed bits of steel in the mouth, over the eyes, ears andbetween the fingers at the time of burial. They also placedhawthorn in the corpse\\'s sock or drove a hawthorn stake throughthe legs. In a 16th-century burial near Venice, a brick forced intothe mouth of a female corpse has been interpreted as a vampire-slaying ritual by the archaeologists who discovered it in 2006.[59]In Bulgaria, over 100 skeletons with metal objects, such as ploughbits, embedded in the torso have been discovered.[58]Further measures included pouring boiling water over the grave orcomplete incineration of the body. In Southeastern Europe, avampire could also be killed by being shot or drowned, by repeating the funeral service, by sprinklingholy water on the body, or by exorcism. In Romania, garlic could be placed in the mouth, and asrecently as the 19th century, the precaution of shooting a bullet through the coffin was taken. Forresistant cases, the body was dismembered and the pieces burned, mixed with water, andadministered to family members as a cure. In Saxon regions of Germany, a lemon was placed in themouth of suspected vampires.[60]Methods of destruction\\nAncient beliefsLilith, 1887 by JohnCollier. Stories ofLilith depict her as ademon drinkingblood.Tales of supernatural beings consuming the blood or flesh of the living havebeen found in nearly every culture around the world for many centuries.[61] Theterm vampire did not exist in ancient times. Blood drinking and similaractivities were attributed to demons or spirits who would eat flesh and drinkblood; even the devil was considered synonymous with the vampire.[62] Almostevery culture associates blood drinking with some kind of revenant or demon,or in some cases a deity. In India tales of vetālas, ghoulish beings that inhabitcorpses, have been compiled in the Baitāl Pacīsī; a prominent story in theKathāsaritsāgara tells of King Vikramāditya and his nightly quests to capturean elusive one.[63] Piśāca, the returned spirits of evil-doers or those who diedinsane, also bear vampiric attributes.[64]The Persians were one of the first civilizations to have tales of blood-drinkingdemons: creatures attempting to drink blood from men were depicted onexcavated pottery shards.[65] Ancient Babylonia and Assyria had tales of themythical Lilitu,[66] synonymous with and giving rise to Lilith (Hebrew )and her daughters the Lilu from Hebrew demonology. Lilitu was considered ademon and was often depicted as subsisting on the blood of babies,[66] andestries, female shapeshifting, blood-drinking demons, were said to roam thenight among the population, seeking victims. According to Sefer Hasidim, estries were creaturescreated in the twilight hours before God rested. An injured estrie could be healed by eating bread andsalt given to her by her attacker.[67]Greco-Roman mythology described the Empusae,[68] the Lamia,[69] the Mormo[70] and the striges.Over time the first two terms became general words to describe witches and demons respectively.Empusa was the daughter of the goddess Hecate and was described as a demonic, bronze-footedcreature. She feasted on blood by transforming into a young woman and seduced men as they sleptbefore drinking their blood.[68] The Lamia preyed on young children in their beds at night, suckingtheir blood, as did the gelloudes or Gello.[69] Like the Lamia, the striges feasted on children, but alsopreyed on adults. They were described as having the bodies of crows or birds in general, and were laterincorporated into Roman mythology as strix, a kind of nocturnal bird that fed on human flesh andblood.[71]In Turkic mythology, an ubır is a vampiric creature characterized by various regional depictions.According to legends, individuals heavily steeped in sin and practitioners of black magic transforminto ubırs upon their death, taking on a bestial form within their graves. Ubırs possess the ability toshape-shift, assuming the forms of both humans and various animals.</DOCUMENT>\\nWhen did the folklore for the entity known today as the vampire originate?'},\n",
       " {'role': 'assistant',\n",
       "  'content': 'To answer the question \"When did the folklore for the entity known today as the vampire originate?\" using the provided context, follow these steps:\\n\\n1. Identify the specific part of the context that discusses the origin of vampire folklore.\\n2. Look for any mention of time periods or specific centuries related to the origin.\\n3. Extract the relevant information and ensure it directly answers the question.\\n\\nStep-by-step reasoning:\\n\\n1. The context mentions that vampiric creatures existed in ancient civilizations, but the specific folklore for the entity known today as the vampire has a more defined origin.\\n2. The context states: ##begin_quote## the folklore for the entity known today as the vampire originates almost exclusively from early 18th-century southeastern Europe ##end_quote##.\\n3. This sentence clearly indicates the time period and region where the folklore for the modern concept of vampires began.\\n\\n<ANSWER>: early 18th-century southeastern Europe.'}]"
      ]
     },
     "execution_count": 14,
     "metadata": {},
     "output_type": "execute_result"
    }
   ],
   "source": [
    "training_df.messages.values[0]"
   ]
  },
  {
   "cell_type": "code",
   "execution_count": 30,
   "metadata": {},
   "outputs": [],
   "source": [
    "training_df.dropna(subset=['cot_answer'], inplace=True)"
   ]
  },
  {
   "cell_type": "code",
   "execution_count": 31,
   "metadata": {},
   "outputs": [],
   "source": [
    "from sklearn.model_selection import train_test_split\n",
    "\n",
    "train_df, test_df = train_test_split(training_df, test_size=0.2, random_state=42)"
   ]
  },
  {
   "cell_type": "code",
   "execution_count": 32,
   "metadata": {},
   "outputs": [],
   "source": [
    "if not os.path.exists(\"data/training_data\"):\n",
    "    os.makedirs(\"data/training_data\")\n",
    "train_df[['messages']].to_json(\"data/training_data/vampires_train.jsonl\", orient=\"records\", lines=True)\n",
    "test_df[['messages']].to_json(\"data/training_data/vampires_test.jsonl\", orient=\"records\", lines=True)"
   ]
  },
  {
   "cell_type": "code",
   "execution_count": 33,
   "metadata": {},
   "outputs": [],
   "source": [
    "test_df.to_json(\"data/training_data/vampires_test_with_metadata.json\", orient=\"records\", lines=True)"
   ]
  },
  {
   "cell_type": "code",
   "execution_count": null,
   "metadata": {},
   "outputs": [],
   "source": []
  }
 ],
 "metadata": {
  "kernelspec": {
   "display_name": "openai",
   "language": "python",
   "name": "python3"
  },
  "language_info": {
   "codemirror_mode": {
    "name": "ipython",
    "version": 3
   },
   "file_extension": ".py",
   "mimetype": "text/x-python",
   "name": "python",
   "nbconvert_exporter": "python",
   "pygments_lexer": "ipython3",
   "version": "3.11.8"
  }
 },
 "nbformat": 4,
 "nbformat_minor": 2
}
