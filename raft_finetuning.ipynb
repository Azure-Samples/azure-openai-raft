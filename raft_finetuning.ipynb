{
 "cells": [
  {
   "cell_type": "code",
   "execution_count": 1,
   "metadata": {},
   "outputs": [
    {
     "data": {
      "text/plain": [
       "True"
      ]
     },
     "execution_count": 1,
     "metadata": {},
     "output_type": "execute_result"
    }
   ],
   "source": [
    "from dotenv import load_dotenv\n",
    "import os\n",
    "\n",
    "load_dotenv()"
   ]
  },
  {
   "cell_type": "code",
   "execution_count": 2,
   "metadata": {},
   "outputs": [
    {
     "name": "stdout",
     "output_type": "stream",
     "text": [
      "Processing file: ./data/training_data/vampires_train.jsonl\n",
      "\n",
      "#### Distribution of total tokens:\n",
      "min / max: 347, 1248\n",
      "mean / median: 690.8498023715415, 678.5\n",
      "p5 / p95: 511.5, 896.0\n",
      "\n",
      "#### Distribution of assistant tokens:\n",
      "min / max: 96, 425\n",
      "mean / median: 206.15612648221344, 200.0\n",
      "p5 / p95: 153.5, 264.0\n",
      "**************************************************\n",
      "Processing file: ./data/training_data/vampires_test.jsonl\n",
      "\n",
      "#### Distribution of total tokens:\n",
      "min / max: 438, 1143\n",
      "mean / median: 687.6299212598425, 664.0\n",
      "p5 / p95: 505.2, 911.8\n",
      "\n",
      "#### Distribution of assistant tokens:\n",
      "min / max: 92, 411\n",
      "mean / median: 204.99212598425197, 200.0\n",
      "p5 / p95: 150.0, 261.6\n",
      "**************************************************\n"
     ]
    }
   ],
   "source": [
    "import json\n",
    "import tiktoken\n",
    "import numpy as np\n",
    "from collections import defaultdict\n",
    "\n",
    "encoding = tiktoken.get_encoding(\"cl100k_base\") # default encoding used by gpt-4, turbo, and text-embedding-ada-002 models\n",
    "\n",
    "def num_tokens_from_messages(messages, tokens_per_message=3, tokens_per_name=1):\n",
    "    num_tokens = 0\n",
    "    for message in messages:\n",
    "        num_tokens += tokens_per_message\n",
    "        for key, value in message.items():\n",
    "            num_tokens += len(encoding.encode(value))\n",
    "            if key == \"name\":\n",
    "                num_tokens += tokens_per_name\n",
    "    num_tokens += 3\n",
    "    return num_tokens\n",
    "\n",
    "def num_assistant_tokens_from_messages(messages):\n",
    "    num_tokens = 0\n",
    "    for message in messages:\n",
    "        if message[\"role\"] == \"assistant\":\n",
    "            num_tokens += len(encoding.encode(message[\"content\"]))\n",
    "    return num_tokens\n",
    "\n",
    "def print_distribution(values, name):\n",
    "    print(f\"\\n#### Distribution of {name}:\")\n",
    "    print(f\"min / max: {min(values)}, {max(values)}\")\n",
    "    print(f\"mean / median: {np.mean(values)}, {np.median(values)}\")\n",
    "    print(f\"p5 / p95: {np.quantile(values, 0.1)}, {np.quantile(values, 0.9)}\")\n",
    "\n",
    "files = ['./data/training_data/vampires_train.jsonl', './data/training_data/vampires_test.jsonl']\n",
    "\n",
    "for file in files:\n",
    "    print(f\"Processing file: {file}\")\n",
    "    with open(file, 'r', encoding='utf-8') as f:\n",
    "        dataset = [json.loads(line) for line in f]\n",
    "\n",
    "    total_tokens = []\n",
    "    assistant_tokens = []\n",
    "\n",
    "    for ex in dataset:\n",
    "        messages = ex.get(\"messages\", {})\n",
    "        total_tokens.append(num_tokens_from_messages(messages))\n",
    "        assistant_tokens.append(num_assistant_tokens_from_messages(messages))\n",
    "\n",
    "    print_distribution(total_tokens, \"total tokens\")\n",
    "    print_distribution(assistant_tokens, \"assistant tokens\")\n",
    "    print('*' * 50)"
   ]
  },
  {
   "cell_type": "code",
   "execution_count": 3,
   "metadata": {},
   "outputs": [
    {
     "name": "stdout",
     "output_type": "stream",
     "text": [
      "Training file ID: file-7a8cb6a4a1fe4eb18bf6b924bb8b5214\n",
      "Validation file ID: file-22329bf4c3794b8bb9ca0ad238525418\n"
     ]
    }
   ],
   "source": [
    "from dotenv import load_dotenv\n",
    "import os\n",
    "from openai import AzureOpenAI\n",
    "\n",
    "client = AzureOpenAI(\n",
    "  azure_endpoint = os.getenv(\"AZURE_OPENAI_SWEDEN_ENDPOINT\"),\n",
    "  api_key = os.getenv(\"AZURE_OPENAI_SWEDEN_KEY\"),\n",
    "  api_version = \"2024-05-01-preview\"  # This API version or later is required to access seed/events/checkpoint features\n",
    ")\n",
    "\n",
    "training_file_name = './data/training_data/vampires_train.jsonl'\n",
    "validation_file_name = './data/training_data/vampires_test.jsonl'\n",
    "\n",
    "# Upload the training and validation dataset files to Azure OpenAI with the SDK.\n",
    "\n",
    "training_response = client.files.create(\n",
    "    file = open(training_file_name, \"rb\"), purpose=\"fine-tune\"\n",
    ")\n",
    "training_file_id = training_response.id\n",
    "\n",
    "validation_response = client.files.create(\n",
    "    file = open(validation_file_name, \"rb\"), purpose=\"fine-tune\"\n",
    ")\n",
    "validation_file_id = validation_response.id\n",
    "\n",
    "print(\"Training file ID:\", training_file_id)\n",
    "print(\"Validation file ID:\", validation_file_id)"
   ]
  },
  {
   "cell_type": "code",
   "execution_count": 4,
   "metadata": {},
   "outputs": [
    {
     "name": "stdout",
     "output_type": "stream",
     "text": [
      "Job ID: ftjob-6647cdbd869c4bc8b2140ff7197c4c23\n",
      "Status: pending\n",
      "{\n",
      "  \"id\": \"ftjob-6647cdbd869c4bc8b2140ff7197c4c23\",\n",
      "  \"created_at\": 1723494275,\n",
      "  \"error\": null,\n",
      "  \"fine_tuned_model\": null,\n",
      "  \"finished_at\": null,\n",
      "  \"hyperparameters\": {\n",
      "    \"n_epochs\": -1,\n",
      "    \"batch_size\": -1,\n",
      "    \"learning_rate_multiplier\": 1\n",
      "  },\n",
      "  \"model\": \"gpt-4o-mini-2024-07-18\",\n",
      "  \"object\": \"fine_tuning.job\",\n",
      "  \"organization_id\": null,\n",
      "  \"result_files\": null,\n",
      "  \"seed\": 105,\n",
      "  \"status\": \"pending\",\n",
      "  \"trained_tokens\": null,\n",
      "  \"training_file\": \"file-7a8cb6a4a1fe4eb18bf6b924bb8b5214\",\n",
      "  \"validation_file\": \"file-22329bf4c3794b8bb9ca0ad238525418\",\n",
      "  \"estimated_finish\": null,\n",
      "  \"integrations\": null\n",
      "}\n"
     ]
    }
   ],
   "source": [
    "# Submit fine-tuning training job\n",
    "\n",
    "response = client.fine_tuning.jobs.create(\n",
    "    training_file = training_file_id,\n",
    "    validation_file = validation_file_id,\n",
    "    model = \"gpt-4o-mini\", # Enter base model name. Note that in Azure OpenAI the model name contains dashes and cannot contain dot/period characters.\n",
    "    seed = 105 # seed parameter controls reproducibility of the fine-tuning job. If no seed is specified one will be generated automatically.\n",
    ")\n",
    "\n",
    "job_id = response.id\n",
    "\n",
    "# You can use the job ID to monitor the status of the fine-tuning job.\n",
    "# The fine-tuning job will take some time to start and complete.\n",
    "\n",
    "print(\"Job ID:\", response.id)\n",
    "print(\"Status:\", response.status)\n",
    "print(response.model_dump_json(indent=2))"
   ]
  },
  {
   "cell_type": "code",
   "execution_count": 5,
   "metadata": {},
   "outputs": [
    {
     "name": "stdout",
     "output_type": "stream",
     "text": [
      "Fine-tuning job ftjob-6647cdbd869c4bc8b2140ff7197c4c23 finished with status: succeeded\n",
      "Checking other fine-tune jobs for this resource.\n",
      "Found 1 fine-tune jobs.\n"
     ]
    }
   ],
   "source": [
    "# Track training status\n",
    "\n",
    "from IPython.display import clear_output\n",
    "import time\n",
    "\n",
    "start_time = time.time()\n",
    "\n",
    "# Get the status of our fine-tuning job.\n",
    "response = client.fine_tuning.jobs.retrieve(job_id)\n",
    "\n",
    "status = response.status\n",
    "\n",
    "# If the job isn't done yet, poll it every 10 seconds.\n",
    "while status not in [\"succeeded\", \"failed\"]:\n",
    "    time.sleep(10)\n",
    "\n",
    "    response = client.fine_tuning.jobs.retrieve(job_id)\n",
    "    print(response.model_dump_json(indent=2))\n",
    "    print(\"Elapsed time: {} minutes {} seconds\".format(int((time.time() - start_time) // 60), int((time.time() - start_time) % 60)))\n",
    "    status = response.status\n",
    "    print(f'Status: {status}')\n",
    "    clear_output(wait=True)\n",
    "\n",
    "print(f'Fine-tuning job {job_id} finished with status: {status}')\n",
    "\n",
    "# List all fine-tuning jobs for this resource.\n",
    "print('Checking other fine-tune jobs for this resource.')\n",
    "response = client.fine_tuning.jobs.list()\n",
    "print(f'Found {len(response.data)} fine-tune jobs.')"
   ]
  },
  {
   "cell_type": "code",
   "execution_count": 11,
   "metadata": {},
   "outputs": [
    {
     "name": "stdout",
     "output_type": "stream",
     "text": [
      "{\n",
      "  \"data\": [\n",
      "    {\n",
      "      \"id\": \"ftevent-a56a078c64e7403eb7af5c6cdd611ebc\",\n",
      "      \"created_at\": 1723499535,\n",
      "      \"level\": \"info\",\n",
      "      \"message\": \"Training tokens billed: 3100000\",\n",
      "      \"object\": \"fine_tuning.job.event\",\n",
      "      \"type\": \"message\"\n",
      "    },\n",
      "    {\n",
      "      \"id\": \"ftevent-1413a98629394703a9c55949e5a44fa5\",\n",
      "      \"created_at\": 1723499535,\n",
      "      \"level\": \"info\",\n",
      "      \"message\": \"Model Evaluation Passed.\",\n",
      "      \"object\": \"fine_tuning.job.event\",\n",
      "      \"type\": \"message\"\n",
      "    },\n",
      "    {\n",
      "      \"id\": \"ftevent-2af6f741f77240979c44aebb096b77a1\",\n",
      "      \"created_at\": 1723499535,\n",
      "      \"level\": \"info\",\n",
      "      \"message\": \"Completed results file: file-e27de9e9272b42eca0633d41e3b06383\",\n",
      "      \"object\": \"fine_tuning.job.event\",\n",
      "      \"type\": \"message\"\n",
      "    },\n",
      "    {\n",
      "      \"id\": \"ftevent-33776e911622407184601d0ea9006031\",\n",
      "      \"created_at\": 1723499527,\n",
      "      \"level\": \"info\",\n",
      "      \"message\": \"Postprocessing started.\",\n",
      "      \"object\": \"fine_tuning.job.event\",\n",
      "      \"type\": \"message\"\n",
      "    },\n",
      "    {\n",
      "      \"id\": \"ftevent-f013b21c529d4922970ee93f26c60ae0\",\n",
      "      \"created_at\": 1723499484,\n",
      "      \"level\": \"info\",\n",
      "      \"message\": \"Job succeeded.\",\n",
      "      \"object\": \"fine_tuning.job.event\",\n",
      "      \"type\": \"message\"\n",
      "    },\n",
      "    {\n",
      "      \"id\": \"ftevent-008dcbb15aebb85008dcbb15aebb8500\",\n",
      "      \"created_at\": 1723498098,\n",
      "      \"level\": \"info\",\n",
      "      \"message\": \"Step 1518: training loss=0.18645183742046356\",\n",
      "      \"object\": \"fine_tuning.job.event\",\n",
      "      \"type\": \"metrics\",\n",
      "      \"data\": {\n",
      "        \"step\": 1518,\n",
      "        \"train_loss\": 0.18645183742046356,\n",
      "        \"train_mean_token_accuracy\": 0.9241071343421936,\n",
      "        \"valid_loss\": 0.1961107664210822,\n",
      "        \"valid_mean_token_accuracy\": 0.9354838709677419,\n",
      "        \"full_valid_loss\": 0.3730933286146992,\n",
      "        \"full_valid_mean_token_accuracy\": 0.6722108594141937\n",
      "      }\n",
      "    },\n",
      "    {\n",
      "      \"id\": \"ftevent-008dcbb15a9f6d1008dcbb15a9f6d100\",\n",
      "      \"created_at\": 1723498090,\n",
      "      \"level\": \"info\",\n",
      "      \"message\": \"Step 1510: training loss=0.05799402669072151\",\n",
      "      \"object\": \"fine_tuning.job.event\",\n",
      "      \"type\": \"metrics\",\n",
      "      \"data\": {\n",
      "        \"step\": 1510,\n",
      "        \"train_loss\": 0.05799402669072151,\n",
      "        \"train_mean_token_accuracy\": 0.9878048896789551,\n",
      "        \"valid_loss\": 0.3026319300462752,\n",
      "        \"valid_mean_token_accuracy\": 0.9086294416243654\n",
      "      }\n",
      "    },\n",
      "    {\n",
      "      \"id\": \"ftevent-008dcbb15a400f0008dcbb15a400f000\",\n",
      "      \"created_at\": 1723498080,\n",
      "      \"level\": \"info\",\n",
      "      \"message\": \"Step 1500: training loss=0.14754635095596313\",\n",
      "      \"object\": \"fine_tuning.job.event\",\n",
      "      \"type\": \"metrics\",\n",
      "      \"data\": {\n",
      "        \"step\": 1500,\n",
      "        \"train_loss\": 0.14754635095596313,\n",
      "        \"train_mean_token_accuracy\": 0.9451219439506531,\n",
      "        \"valid_loss\": 0.37955049622110476,\n",
      "        \"valid_mean_token_accuracy\": 0.8744588744588745\n",
      "      }\n",
      "    },\n",
      "    {\n",
      "      \"id\": \"ftevent-008dcbb159e0b0f008dcbb159e0b0f00\",\n",
      "      \"created_at\": 1723498070,\n",
      "      \"level\": \"info\",\n",
      "      \"message\": \"Step 1490: training loss=0.16397137939929962\",\n",
      "      \"object\": \"fine_tuning.job.event\",\n",
      "      \"type\": \"metrics\",\n",
      "      \"data\": {\n",
      "        \"step\": 1490,\n",
      "        \"train_loss\": 0.16397137939929962,\n",
      "        \"train_mean_token_accuracy\": 0.95652174949646,\n",
      "        \"valid_loss\": 0.1814822595096329,\n",
      "        \"valid_mean_token_accuracy\": 0.9271844660194175\n",
      "      }\n",
      "    },\n",
      "    {\n",
      "      \"id\": \"ftevent-008dcbb1598152e008dcbb1598152e00\",\n",
      "      \"created_at\": 1723498060,\n",
      "      \"level\": \"info\",\n",
      "      \"message\": \"Step 1480: training loss=0.15496401488780975\",\n",
      "      \"object\": \"fine_tuning.job.event\",\n",
      "      \"type\": \"metrics\",\n",
      "      \"data\": {\n",
      "        \"step\": 1480,\n",
      "        \"train_loss\": 0.15496401488780975,\n",
      "        \"train_mean_token_accuracy\": 0.9404255151748657,\n",
      "        \"valid_loss\": 0.19031565606930836,\n",
      "        \"valid_mean_token_accuracy\": 0.9322033898305084\n",
      "      }\n",
      "    }\n",
      "  ],\n",
      "  \"has_more\": true,\n",
      "  \"object\": \"list\"\n",
      "}\n"
     ]
    }
   ],
   "source": [
    "response = client.fine_tuning.jobs.list_events(fine_tuning_job_id=job_id, limit=10)\n",
    "print(response.model_dump_json(indent=2))"
   ]
  },
  {
   "cell_type": "code",
   "execution_count": 12,
   "metadata": {},
   "outputs": [
    {
     "name": "stdout",
     "output_type": "stream",
     "text": [
      "{\n",
      "  \"id\": \"ftjob-6647cdbd869c4bc8b2140ff7197c4c23\",\n",
      "  \"created_at\": 1723494275,\n",
      "  \"error\": null,\n",
      "  \"fine_tuned_model\": \"gpt-4o-mini-2024-07-18.ft-6647cdbd869c4bc8b2140ff7197c4c23\",\n",
      "  \"finished_at\": 1723499535,\n",
      "  \"hyperparameters\": {\n",
      "    \"n_epochs\": 3,\n",
      "    \"batch_size\": 1,\n",
      "    \"learning_rate_multiplier\": 1\n",
      "  },\n",
      "  \"model\": \"gpt-4o-mini-2024-07-18\",\n",
      "  \"object\": \"fine_tuning.job\",\n",
      "  \"organization_id\": null,\n",
      "  \"result_files\": [\n",
      "    \"file-e27de9e9272b42eca0633d41e3b06383\"\n",
      "  ],\n",
      "  \"seed\": 105,\n",
      "  \"status\": \"succeeded\",\n",
      "  \"trained_tokens\": 1048710,\n",
      "  \"training_file\": \"file-7a8cb6a4a1fe4eb18bf6b924bb8b5214\",\n",
      "  \"validation_file\": \"file-22329bf4c3794b8bb9ca0ad238525418\",\n",
      "  \"estimated_finish\": null,\n",
      "  \"integrations\": null\n",
      "}\n"
     ]
    }
   ],
   "source": [
    "# Retrieve fine_tuned_model name\n",
    "\n",
    "response = client.fine_tuning.jobs.retrieve(job_id)\n",
    "\n",
    "print(response.model_dump_json(indent=2))\n",
    "fine_tuned_model = response.fine_tuned_model"
   ]
  },
  {
   "cell_type": "code",
   "execution_count": 16,
   "metadata": {},
   "outputs": [
    {
     "name": "stdout",
     "output_type": "stream",
     "text": [
      "{\n",
      "  \"accessToken\": \"eyJ0eXAiOiJKV1QiLCJhbGciOiJSUzI1NiIsIng1dCI6IktRMnRBY3JFN2xCYVZWR0JtYzVGb2JnZEpvNCIsImtpZCI6IktRMnRBY3JFN2xCYVZWR0JtYzVGb2JnZEpvNCJ9.eyJhdWQiOiJodHRwczovL21hbmFnZW1lbnQuY29yZS53aW5kb3dzLm5ldC8iLCJpc3MiOiJodHRwczovL3N0cy53aW5kb3dzLm5ldC8xNmIzYzAxMy1kMzAwLTQ2OGQtYWM2NC03ZWRhMDgyMGI2ZDMvIiwiaWF0IjoxNzIzNTAxMjczLCJuYmYiOjE3MjM1MDEyNzMsImV4cCI6MTcyMzUwNjczMywiYWNyIjoiMSIsImFpbyI6IkFlUUFHLzhYQUFBQWh2OXpBM2VCdGFhSGF1YkRwWmxncnoxU0tsUngvOXphQVJrYkxYbDBnTkttVHdzRCtlSHhpRUh5WTdxOXVHdk9BV2owbWVkeExBZUxNMnJrQ3lDNlRpK2RjTjRYUFBwUzhGaEtBUXlFWGdTbHZGekNwcGkwMXVzUFlEUit4L1BVcUhNUG9BSTJ3UnJxOXNhVlB6QXcxWTNSc3plZm1aNFVwaHhISEI3cEgxdkJ5LzM3UStDNDY4YWNSaHpzUVJEV2JJbVJ5ZTVVU0pIc2NHeXplYjlMTkRSQWVGYXAxNko1ZUZQaDdPckw2Sk9RWnRoT09vNSttUkFzTEJmdDh2V0hmakZ4dW04alNqY1d3WXpFNndHWnVvUGlucm10M0ErUnhHdnl1Q3R0R0JnPSIsImFsdHNlY2lkIjoiNTo6MTAwMzIwMDMzMkVBNEExMyIsImFtciI6WyJyc2EiLCJtZmEiXSwiYXBwaWQiOiIwNGIwNzc5NS04ZGRiLTQ2MWEtYmJlZS0wMmY5ZTFiZjdiNDYiLCJhcHBpZGFjciI6IjAiLCJkZXZpY2VpZCI6ImMwYjcxMjc2LWEyZjQtNDA1Ny04MDBmLTRmOTU0ODQ2MmMzMSIsImVtYWlsIjoidmhvdWRlYmluZUBtaWNyb3NvZnQuY29tIiwiZmFtaWx5X25hbWUiOiJIb3VkZWJpbmUiLCJnaXZlbl9uYW1lIjoiVmluY2VudCIsImdyb3VwcyI6WyJiMTMwNDAyMi0wOGU2LTQ0N2QtYjA5NC0xNTM3MDU5N2M2YjYiLCJkMzRjNGViZS00OTg0LTQ5MDMtYTY0ZC04YzIwMjgzZDUxNmIiLCJlMzA5NmRmNy1iNjVjLTRlMzItYWIxYS03YTM1ZGM2ODRmMGEiXSwiaWRwIjoiaHR0cHM6Ly9zdHMud2luZG93cy5uZXQvNzJmOTg4YmYtODZmMS00MWFmLTkxYWItMmQ3Y2QwMTFkYjQ3LyIsImlkdHlwIjoidXNlciIsImlwYWRkciI6IjEwOC40MS4xMDEuMTEiLCJuYW1lIjoiVmluY2VudCBIb3VkZWJpbmUiLCJvaWQiOiIyNTU5YjA0ZC02YWY3LTQ5ZjMtODg3ZS04ZjliZDZjMjUzNDciLCJwdWlkIjoiMTAwMzIwMDMzQ0ZGM0E1OSIsInJoIjoiMC5BVVlBRThDekZnRFRqVWFzWkg3YUNDQzIwMFpJZjNrQXV0ZFB1a1Bhd2ZqMk1CUHhBTGcuIiwic2NwIjoidXNlcl9pbXBlcnNvbmF0aW9uIiwic3ViIjoiRmRkbDNjdDJNQktObGU4NzFLVnV2TDBoTUpKZUtEUVZXT3RoY2lVSzlhSSIsInRpZCI6IjE2YjNjMDEzLWQzMDAtNDY4ZC1hYzY0LTdlZGEwODIwYjZkMyIsInVuaXF1ZV9uYW1lIjoidmhvdWRlYmluZUBtaWNyb3NvZnQuY29tIiwidXRpIjoidnFjS1p4MGhiVVNlbFI2QzJXMVRBQSIsInZlciI6IjEuMCIsIndpZHMiOlsiYjc5ZmJmNGQtM2VmOS00Njg5LTgxNDMtNzZiMTk0ZTg1NTA5Il0sInhtc19jYWUiOiIxIiwieG1zX2NjIjpbIkNQMSJdLCJ4bXNfZWRvdiI6dHJ1ZSwieG1zX2lkcmVsIjoiMSA0IiwieG1zX3RjZHQiOjE2NDUxMzcyMjh9.LVlsxEybRU7JPHo54uyDh-zOkVTHbkVfhjl4o1he_shpKn02Z2YHP8nOnnXbHgd2MqM1Sus-i-U6LlE1Sc4ARMOUle105XoaveiNZilRY0uREbxo1AjtIXZ_VSUH5o0VckJ06Id4kUNktVlHBamA3k4Qd5IBV4B-gcrzgbyxlADY9N0Vakafe4GH5zALf74I-v9nYZzhWgj_zgJvrC7vrYe708jx1hwTXVfGm_L8oSsvPzSH1sXDnZnAU5vraB1GO4QFdPzINXrwnEyTWZh3rh1qWJJ-MEB1T3EJbvA2PLKmSQPoXcoAQo_veh2RU9jPaWyptBKHYVriPnUsz_8LqA\",\n",
      "  \"expiresOn\": \"2024-08-12 19:52:11.000000\",\n",
      "  \"expires_on\": 1723506731,\n",
      "  \"subscription\": \"6c065ea7-65cd-4a34-8e2a-3e21ad4a8e9f\",\n",
      "  \"tenant\": \"16b3c013-d300-468d-ac64-7eda0820b6d3\",\n",
      "  \"tokenType\": \"Bearer\"\n",
      "}\n"
     ]
    }
   ],
   "source": [
    "!az account get-access-token"
   ]
  },
  {
   "cell_type": "code",
   "execution_count": 14,
   "metadata": {},
   "outputs": [
    {
     "data": {
      "text/plain": [
       "'gpt-4o-mini-2024-07-18.ft-6647cdbd869c4bc8b2140ff7197c4c23'"
      ]
     },
     "execution_count": 14,
     "metadata": {},
     "output_type": "execute_result"
    }
   ],
   "source": [
    "fine_tuned_model"
   ]
  },
  {
   "cell_type": "code",
   "execution_count": 18,
   "metadata": {},
   "outputs": [
    {
     "name": "stdout",
     "output_type": "stream",
     "text": [
      "Creating a new deployment...\n",
      "<Response [201]>\n",
      "Created\n",
      "{'id': '/subscriptions/6c065ea7-65cd-4a34-8e2a-3e21ad4a8e9f/resourceGroups/vince-rg/providers/Microsoft.CognitiveServices/accounts/vh-aoai-se/deployments/gpt-4o-mini-ft-raft', 'type': 'Microsoft.CognitiveServices/accounts/deployments', 'name': 'gpt-4o-mini-ft-raft', 'sku': {'name': 'standard', 'capacity': 1}, 'properties': {'model': {'format': 'OpenAI', 'name': 'gpt-4o-mini-2024-07-18.ft-6647cdbd869c4bc8b2140ff7197c4c23', 'version': '1'}, 'versionUpgradeOption': 'NoAutoUpgrade', 'capabilities': {'chatCompletion': 'true'}, 'provisioningState': 'Creating'}, 'systemData': {'createdBy': 'vhoudebine@microsoft.com', 'createdByType': 'User', 'createdAt': '2024-08-12T22:39:03.480334Z', 'lastModifiedBy': 'vhoudebine@microsoft.com', 'lastModifiedByType': 'User', 'lastModifiedAt': '2024-08-12T22:39:03.480334Z'}, 'etag': '\"21179c8b-7670-4174-888b-0b7685765114\"'}\n"
     ]
    }
   ],
   "source": [
    "# Deploy fine-tuned model\n",
    "\n",
    "import json\n",
    "import requests\n",
    "\n",
    "token = \"eyJ0eXAiOiJKV1QiLCJhbGciOiJSUzI1NiIsIng1dCI6IktRMnRBY3JFN2xCYVZWR0JtYzVGb2JnZEpvNCIsImtpZCI6IktRMnRBY3JFN2xCYVZWR0JtYzVGb2JnZEpvNCJ9.eyJhdWQiOiJodHRwczovL21hbmFnZW1lbnQuY29yZS53aW5kb3dzLm5ldC8iLCJpc3MiOiJodHRwczovL3N0cy53aW5kb3dzLm5ldC8xNmIzYzAxMy1kMzAwLTQ2OGQtYWM2NC03ZWRhMDgyMGI2ZDMvIiwiaWF0IjoxNzIzNTAxMjczLCJuYmYiOjE3MjM1MDEyNzMsImV4cCI6MTcyMzUwNjczMywiYWNyIjoiMSIsImFpbyI6IkFlUUFHLzhYQUFBQWh2OXpBM2VCdGFhSGF1YkRwWmxncnoxU0tsUngvOXphQVJrYkxYbDBnTkttVHdzRCtlSHhpRUh5WTdxOXVHdk9BV2owbWVkeExBZUxNMnJrQ3lDNlRpK2RjTjRYUFBwUzhGaEtBUXlFWGdTbHZGekNwcGkwMXVzUFlEUit4L1BVcUhNUG9BSTJ3UnJxOXNhVlB6QXcxWTNSc3plZm1aNFVwaHhISEI3cEgxdkJ5LzM3UStDNDY4YWNSaHpzUVJEV2JJbVJ5ZTVVU0pIc2NHeXplYjlMTkRSQWVGYXAxNko1ZUZQaDdPckw2Sk9RWnRoT09vNSttUkFzTEJmdDh2V0hmakZ4dW04alNqY1d3WXpFNndHWnVvUGlucm10M0ErUnhHdnl1Q3R0R0JnPSIsImFsdHNlY2lkIjoiNTo6MTAwMzIwMDMzMkVBNEExMyIsImFtciI6WyJyc2EiLCJtZmEiXSwiYXBwaWQiOiIwNGIwNzc5NS04ZGRiLTQ2MWEtYmJlZS0wMmY5ZTFiZjdiNDYiLCJhcHBpZGFjciI6IjAiLCJkZXZpY2VpZCI6ImMwYjcxMjc2LWEyZjQtNDA1Ny04MDBmLTRmOTU0ODQ2MmMzMSIsImVtYWlsIjoidmhvdWRlYmluZUBtaWNyb3NvZnQuY29tIiwiZmFtaWx5X25hbWUiOiJIb3VkZWJpbmUiLCJnaXZlbl9uYW1lIjoiVmluY2VudCIsImdyb3VwcyI6WyJiMTMwNDAyMi0wOGU2LTQ0N2QtYjA5NC0xNTM3MDU5N2M2YjYiLCJkMzRjNGViZS00OTg0LTQ5MDMtYTY0ZC04YzIwMjgzZDUxNmIiLCJlMzA5NmRmNy1iNjVjLTRlMzItYWIxYS03YTM1ZGM2ODRmMGEiXSwiaWRwIjoiaHR0cHM6Ly9zdHMud2luZG93cy5uZXQvNzJmOTg4YmYtODZmMS00MWFmLTkxYWItMmQ3Y2QwMTFkYjQ3LyIsImlkdHlwIjoidXNlciIsImlwYWRkciI6IjEwOC40MS4xMDEuMTEiLCJuYW1lIjoiVmluY2VudCBIb3VkZWJpbmUiLCJvaWQiOiIyNTU5YjA0ZC02YWY3LTQ5ZjMtODg3ZS04ZjliZDZjMjUzNDciLCJwdWlkIjoiMTAwMzIwMDMzQ0ZGM0E1OSIsInJoIjoiMC5BVVlBRThDekZnRFRqVWFzWkg3YUNDQzIwMFpJZjNrQXV0ZFB1a1Bhd2ZqMk1CUHhBTGcuIiwic2NwIjoidXNlcl9pbXBlcnNvbmF0aW9uIiwic3ViIjoiRmRkbDNjdDJNQktObGU4NzFLVnV2TDBoTUpKZUtEUVZXT3RoY2lVSzlhSSIsInRpZCI6IjE2YjNjMDEzLWQzMDAtNDY4ZC1hYzY0LTdlZGEwODIwYjZkMyIsInVuaXF1ZV9uYW1lIjoidmhvdWRlYmluZUBtaWNyb3NvZnQuY29tIiwidXRpIjoidnFjS1p4MGhiVVNlbFI2QzJXMVRBQSIsInZlciI6IjEuMCIsIndpZHMiOlsiYjc5ZmJmNGQtM2VmOS00Njg5LTgxNDMtNzZiMTk0ZTg1NTA5Il0sInhtc19jYWUiOiIxIiwieG1zX2NjIjpbIkNQMSJdLCJ4bXNfZWRvdiI6dHJ1ZSwieG1zX2lkcmVsIjoiMSA0IiwieG1zX3RjZHQiOjE2NDUxMzcyMjh9.LVlsxEybRU7JPHo54uyDh-zOkVTHbkVfhjl4o1he_shpKn02Z2YHP8nOnnXbHgd2MqM1Sus-i-U6LlE1Sc4ARMOUle105XoaveiNZilRY0uREbxo1AjtIXZ_VSUH5o0VckJ06Id4kUNktVlHBamA3k4Qd5IBV4B-gcrzgbyxlADY9N0Vakafe4GH5zALf74I-v9nYZzhWgj_zgJvrC7vrYe708jx1hwTXVfGm_L8oSsvPzSH1sXDnZnAU5vraB1GO4QFdPzINXrwnEyTWZh3rh1qWJJ-MEB1T3EJbvA2PLKmSQPoXcoAQo_veh2RU9jPaWyptBKHYVriPnUsz_8LqA\"\n",
    "subscription = \"6c065ea7-65cd-4a34-8e2a-3e21ad4a8e9f\"\n",
    "resource_group = \"vince-rg\"\n",
    "resource_name = \"vh-aoai-se\"\n",
    "model_deployment_name = \"gpt-4o-mini-ft-raft\"\n",
    "\n",
    "deploy_params = {'api-version': \"2023-05-01\"}\n",
    "deploy_headers = {'Authorization': 'Bearer {}'.format(token), 'Content-Type': 'application/json'}\n",
    "\n",
    "deploy_data = {\n",
    "    \"sku\": {\"name\": \"standard\", \"capacity\": 1},\n",
    "    \"properties\": {\n",
    "        \"model\": {\n",
    "            \"format\": \"OpenAI\",\n",
    "            \"name\": fine_tuned_model, #retrieve this value from the previous call, it will look like gpt-35-turbo-0613.ft-b044a9d3cf9c4228b5d393567f693b83\n",
    "            \"version\": \"1\"\n",
    "        }\n",
    "    }\n",
    "}\n",
    "deploy_data = json.dumps(deploy_data)\n",
    "\n",
    "request_url = f'https://management.azure.com/subscriptions/{subscription}/resourceGroups/{resource_group}/providers/Microsoft.CognitiveServices/accounts/{resource_name}/deployments/{model_deployment_name}'\n",
    "\n",
    "print('Creating a new deployment...')\n",
    "\n",
    "r = requests.put(request_url, params=deploy_params, headers=deploy_headers, data=deploy_data)\n",
    "\n",
    "print(r)\n",
    "print(r.reason)\n",
    "print(r.json())"
   ]
  },
  {
   "cell_type": "code",
   "execution_count": null,
   "metadata": {},
   "outputs": [],
   "source": []
  }
 ],
 "metadata": {
  "kernelspec": {
   "display_name": "openai",
   "language": "python",
   "name": "python3"
  },
  "language_info": {
   "codemirror_mode": {
    "name": "ipython",
    "version": 3
   },
   "file_extension": ".py",
   "mimetype": "text/x-python",
   "name": "python",
   "nbconvert_exporter": "python",
   "pygments_lexer": "ipython3",
   "version": "3.11.8"
  }
 },
 "nbformat": 4,
 "nbformat_minor": 2
}
